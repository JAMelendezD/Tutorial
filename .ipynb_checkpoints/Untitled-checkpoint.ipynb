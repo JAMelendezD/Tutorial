{
 "cells": [
  {
   "cell_type": "markdown",
   "id": "adb5f8df",
   "metadata": {},
   "source": [
    "# Comments"
   ]
  },
  {
   "cell_type": "markdown",
   "id": "c14d8097",
   "metadata": {},
   "source": [
    "Single line comments in python are written using a #. Comments are lines that will not be executed but are useful to provide information about the code."
   ]
  },
  {
   "cell_type": "code",
   "execution_count": 37,
   "id": "73892a74",
   "metadata": {},
   "outputs": [],
   "source": [
    "# This is a comment"
   ]
  },
  {
   "cell_type": "markdown",
   "id": "150f5fd2",
   "metadata": {},
   "source": [
    "# Data Types"
   ]
  },
  {
   "cell_type": "markdown",
   "id": "0daec85f",
   "metadata": {},
   "source": [
    "This is a very short introduction into some useful data types in python.\n",
    "\n",
    "* Strings\n",
    "* Integers\n",
    "* Floats"
   ]
  },
  {
   "cell_type": "code",
   "execution_count": 38,
   "id": "7aede09f",
   "metadata": {},
   "outputs": [],
   "source": [
    "# In python we can define a string using single or double quotes\n",
    "name = 'Amy'\n",
    "last_name = 'Smith'\n",
    "\n",
    "# The assign operator in this case the equal sign is used to assign\n",
    "# A value to a variable. In this case the variables are to the left\n",
    "# of the operator and we are assigning string values to these variables"
   ]
  },
  {
   "cell_type": "code",
   "execution_count": 39,
   "id": "e772b502",
   "metadata": {},
   "outputs": [
    {
     "name": "stdout",
     "output_type": "stream",
     "text": [
      "Amy\n"
     ]
    }
   ],
   "source": [
    "# We use the print() function to output the values of variables\n",
    "print(name)"
   ]
  },
  {
   "cell_type": "code",
   "execution_count": 40,
   "id": "6307efde",
   "metadata": {},
   "outputs": [],
   "source": [
    "# Functions are called using the name of the function \n",
    "# Followed by parenthesis. If the function has arguments, they are\n",
    "# given inside the parenthesis"
   ]
  },
  {
   "cell_type": "markdown",
   "id": "21b3e407",
   "metadata": {},
   "source": [
    "### Exercise 1: Create a variable dog and assign a string value as its name also output the value of the variable with the print function "
   ]
  },
  {
   "cell_type": "code",
   "execution_count": null,
   "id": "4e65aec5",
   "metadata": {},
   "outputs": [],
   "source": []
  },
  {
   "cell_type": "code",
   "execution_count": 41,
   "id": "a8f2fc72",
   "metadata": {},
   "outputs": [
    {
     "name": "stdout",
     "output_type": "stream",
     "text": [
      "10 10.5\n"
     ]
    }
   ],
   "source": [
    "# In python we can also have numeric variables such as integers and\n",
    "# floats.\n",
    "\n",
    "x = 10 # this is an example of an integer variable\n",
    "y = 10.5 # this is an example of a floating point variable (float)\n",
    "\n",
    "# The print function can receive infinite number of parameters separated\n",
    "# with a comma and then outputs them with a white space separating the\n",
    "# values\n",
    "\n",
    "print(x, y)"
   ]
  },
  {
   "cell_type": "code",
   "execution_count": 42,
   "id": "f442c0d6",
   "metadata": {},
   "outputs": [
    {
     "name": "stdout",
     "output_type": "stream",
     "text": [
      "<class 'str'>\n"
     ]
    }
   ],
   "source": [
    "# The type() function is used to ask our variables what type they are\n",
    "\n",
    "name_type = type(name) # saves the output of type into a variable\n",
    "print(name_type)"
   ]
  },
  {
   "cell_type": "code",
   "execution_count": 43,
   "id": "96ad6b7e",
   "metadata": {},
   "outputs": [],
   "source": [
    "# As we can see it returns what we expected we knew we had previosly\n",
    "# assigned a str or string to our variable name"
   ]
  },
  {
   "cell_type": "markdown",
   "id": "268ef205",
   "metadata": {},
   "source": [
    "### Exercise 2: Create a float named width and an integer called year. Output the width and year separated by a space. Also output the type of each variable separated by a space. "
   ]
  },
  {
   "cell_type": "code",
   "execution_count": null,
   "id": "97eea4e6",
   "metadata": {},
   "outputs": [],
   "source": []
  },
  {
   "cell_type": "markdown",
   "id": "ef099dc8",
   "metadata": {},
   "source": [
    "# Operators"
   ]
  },
  {
   "cell_type": "markdown",
   "id": "0b4d4257",
   "metadata": {},
   "source": [
    "We can perform different type of operations to our variables but we need to keep in mind how is the operation we used defined for a given data type \n",
    "\n",
    "* \\+ (addition)\n",
    "* \\- (substraction)\n",
    "* \\* (multiplication)\n",
    "* / (division)\n",
    "* // (integer division)\n",
    "* ** (power)\n",
    "* % (modulus)"
   ]
  },
  {
   "cell_type": "code",
   "execution_count": 44,
   "id": "190bbb8e",
   "metadata": {},
   "outputs": [
    {
     "name": "stdout",
     "output_type": "stream",
     "text": [
      "13\n"
     ]
    }
   ],
   "source": [
    "a = 5\n",
    "b = 8\n",
    "print(a + b)"
   ]
  },
  {
   "cell_type": "code",
   "execution_count": 45,
   "id": "2ecc8e30",
   "metadata": {},
   "outputs": [
    {
     "name": "stdout",
     "output_type": "stream",
     "text": [
      "-3\n"
     ]
    }
   ],
   "source": [
    "print(a - b)"
   ]
  },
  {
   "cell_type": "code",
   "execution_count": 46,
   "id": "88650cc9",
   "metadata": {},
   "outputs": [
    {
     "name": "stdout",
     "output_type": "stream",
     "text": [
      "40\n"
     ]
    }
   ],
   "source": [
    "print(a * b)"
   ]
  },
  {
   "cell_type": "code",
   "execution_count": 47,
   "id": "5af91ac8",
   "metadata": {},
   "outputs": [
    {
     "name": "stdout",
     "output_type": "stream",
     "text": [
      "0\n"
     ]
    }
   ],
   "source": [
    "print(a // b)"
   ]
  },
  {
   "cell_type": "code",
   "execution_count": 48,
   "id": "53b9ccea",
   "metadata": {},
   "outputs": [
    {
     "name": "stdout",
     "output_type": "stream",
     "text": [
      "0.625\n"
     ]
    }
   ],
   "source": [
    "# Notice that from this operation between two integers we got a float\n",
    "print(a / b)"
   ]
  },
  {
   "cell_type": "code",
   "execution_count": 49,
   "id": "1ce5ab7a",
   "metadata": {},
   "outputs": [
    {
     "name": "stdout",
     "output_type": "stream",
     "text": [
      "25\n"
     ]
    }
   ],
   "source": [
    "# we can also use values in operations without creating a variable\n",
    "print(a ** 2)"
   ]
  },
  {
   "cell_type": "code",
   "execution_count": 50,
   "id": "fc572cd5",
   "metadata": {},
   "outputs": [
    {
     "name": "stdout",
     "output_type": "stream",
     "text": [
      "0\n"
     ]
    }
   ],
   "source": [
    "print(10 % 2) # Remainder of the division 10 / 2"
   ]
  },
  {
   "cell_type": "code",
   "execution_count": 56,
   "id": "f1198ae5",
   "metadata": {},
   "outputs": [
    {
     "name": "stdout",
     "output_type": "stream",
     "text": [
      "AmySmith\n"
     ]
    }
   ],
   "source": [
    "# We can also do operations between strings\n",
    "\n",
    "full_name = name + last_name\n",
    "print(full_name)"
   ]
  },
  {
   "cell_type": "code",
   "execution_count": 58,
   "id": "b1318092",
   "metadata": {},
   "outputs": [
    {
     "ename": "TypeError",
     "evalue": "unsupported operand type(s) for -: 'str' and 'str'",
     "output_type": "error",
     "traceback": [
      "\u001b[0;31m---------------------------------------------------------------------------\u001b[0m",
      "\u001b[0;31mTypeError\u001b[0m                                 Traceback (most recent call last)",
      "Input \u001b[0;32mIn [58]\u001b[0m, in \u001b[0;36m<cell line: 3>\u001b[0;34m()\u001b[0m\n\u001b[1;32m      1\u001b[0m \u001b[38;5;66;03m# Some operations are not defined for a given data type\u001b[39;00m\n\u001b[1;32m      2\u001b[0m \u001b[38;5;66;03m# We get an error unsupported operand (-) between strings\u001b[39;00m\n\u001b[0;32m----> 3\u001b[0m \u001b[38;5;28mprint\u001b[39m(\u001b[43mname\u001b[49m\u001b[43m \u001b[49m\u001b[38;5;241;43m-\u001b[39;49m\u001b[43m \u001b[49m\u001b[43mlast_name\u001b[49m)\n",
      "\u001b[0;31mTypeError\u001b[0m: unsupported operand type(s) for -: 'str' and 'str'"
     ]
    }
   ],
   "source": [
    "# Some operations are not defined for a given data type\n",
    "# We get an error unsupported operand (-) between strings\n",
    "print(name - last_name)"
   ]
  },
  {
   "cell_type": "markdown",
   "id": "ecb896d0",
   "metadata": {},
   "source": [
    "### Exercise 3: Create a variable dog_last and assign a string as its last name. Create a variable called dog_full that has the name and the last name separated by and underscore and output it "
   ]
  },
  {
   "cell_type": "code",
   "execution_count": null,
   "id": "959d1b4f",
   "metadata": {},
   "outputs": [],
   "source": []
  },
  {
   "cell_type": "code",
   "execution_count": 69,
   "id": "fbdb6ced",
   "metadata": {},
   "outputs": [
    {
     "name": "stdout",
     "output_type": "stream",
     "text": [
      "**********\n"
     ]
    }
   ],
   "source": [
    "# Some operations are also defined between mixed data types\n",
    "\n",
    "asterisk = '*' # Variable asterisk holds a string of one character *\n",
    "ten_asterisks = 10 * asterisk # We can mupltiply a string with a integer\n",
    "print(ten_asterisks)"
   ]
  },
  {
   "cell_type": "code",
   "execution_count": 70,
   "id": "0fed506e",
   "metadata": {},
   "outputs": [
    {
     "ename": "TypeError",
     "evalue": "can't multiply sequence by non-int of type 'float'",
     "output_type": "error",
     "traceback": [
      "\u001b[0;31m---------------------------------------------------------------------------\u001b[0m",
      "\u001b[0;31mTypeError\u001b[0m                                 Traceback (most recent call last)",
      "Input \u001b[0;32mIn [70]\u001b[0m, in \u001b[0;36m<cell line: 3>\u001b[0;34m()\u001b[0m\n\u001b[1;32m      1\u001b[0m \u001b[38;5;66;03m# It does not make much sense to have 10.2 characters so as expected\u001b[39;00m\n\u001b[1;32m      2\u001b[0m \u001b[38;5;66;03m# we get and cant multiply error\u001b[39;00m\n\u001b[0;32m----> 3\u001b[0m ten_point_two_asterisks \u001b[38;5;241m=\u001b[39m \u001b[38;5;241;43m10.2\u001b[39;49m\u001b[43m \u001b[49m\u001b[38;5;241;43m*\u001b[39;49m\u001b[43m \u001b[49m\u001b[43masterisk\u001b[49m\n",
      "\u001b[0;31mTypeError\u001b[0m: can't multiply sequence by non-int of type 'float'"
     ]
    }
   ],
   "source": [
    "# It does not make much sense to have 10.2 characters so as expected\n",
    "# we get and cant multiply error\n",
    "ten_point_two_asterisks = 10.2 * asterisk"
   ]
  },
  {
   "cell_type": "code",
   "execution_count": 71,
   "id": "c1b50c25",
   "metadata": {},
   "outputs": [
    {
     "name": "stdout",
     "output_type": "stream",
     "text": [
      "<class 'int'>\n"
     ]
    }
   ],
   "source": [
    "# We can also convert between types using their respective conversion\n",
    "# functions\n",
    "\n",
    "num = 15 \n",
    "print(type(num)) # Integer as expected"
   ]
  },
  {
   "cell_type": "code",
   "execution_count": 72,
   "id": "30abe6f9",
   "metadata": {},
   "outputs": [
    {
     "name": "stdout",
     "output_type": "stream",
     "text": [
      "15.0 <class 'float'>\n"
     ]
    }
   ],
   "source": [
    "# Here we convert num to a float and save it to converted\n",
    "converted = float(num)\n",
    "print(converted, type(converted))"
   ]
  },
  {
   "cell_type": "code",
   "execution_count": 73,
   "id": "a65c215a",
   "metadata": {},
   "outputs": [
    {
     "name": "stdout",
     "output_type": "stream",
     "text": [
      "15 <class 'str'> 15.0 <class 'str'>\n"
     ]
    }
   ],
   "source": [
    "int_str = str(num)\n",
    "float_str = str(converted)\n",
    "print(int_str, type(int_str), float_str, type(float_str))"
   ]
  },
  {
   "cell_type": "markdown",
   "id": "fe24cee8",
   "metadata": {},
   "source": [
    "### Exercise 4: Create a variable of 33 '@' and a variable of 12 '!' create a variable called ascci_A = 65 use the chr() function to convert this variable to a string. Add all 3 strings together and output it."
   ]
  },
  {
   "cell_type": "code",
   "execution_count": null,
   "id": "6359ee10",
   "metadata": {},
   "outputs": [],
   "source": []
  },
  {
   "cell_type": "markdown",
   "id": "60d9634e",
   "metadata": {},
   "source": [
    "# For loops"
   ]
  },
  {
   "cell_type": "code",
   "execution_count": 256,
   "id": "853ce660",
   "metadata": {},
   "outputs": [
    {
     "name": "stdout",
     "output_type": "stream",
     "text": [
      "4950\n"
     ]
    }
   ],
   "source": [
    "# We can use loops to repeate repetitive tasks. Here is the main syntax\n",
    "# Say for example we want to add up all the numbers to 99.\n",
    "\n",
    "# The range iterator is used to iterate from a start to an end given\n",
    "# a step range(start, stop, step)\n",
    "\n",
    "counter = 0\n",
    "for i in range(0, 100, 1): # ranges starts at 0 goes to 99 every 1  \n",
    "# i is a variable that saves the range value for that iteration\n",
    "    counter = counter + i  # Here we add i to what our counter\n",
    "print(counter)"
   ]
  },
  {
   "cell_type": "code",
   "execution_count": 257,
   "id": "687d76d4",
   "metadata": {},
   "outputs": [
    {
     "name": "stdout",
     "output_type": "stream",
     "text": [
      "4950\n"
     ]
    }
   ],
   "source": [
    "# We can simplify the notation since the loop we usually want to start\n",
    "# at 0 and takes steps of 1 that is the default value so we can omit them\n",
    "counter = 0\n",
    "for i in range(100):  \n",
    "    counter += i  # We use the += operator that adds to the existing value\n",
    "print(counter)"
   ]
  },
  {
   "cell_type": "code",
   "execution_count": 259,
   "id": "6f81f464",
   "metadata": {},
   "outputs": [
    {
     "name": "stdout",
     "output_type": "stream",
     "text": [
      "4950\n"
     ]
    }
   ],
   "source": [
    "# We can verify we are correct using the formula by gauss that says\n",
    "# that the sum of the first n integers is n * (n+1)/ 2\n",
    "\n",
    "gauss_sum = 99 * (99 + 1) // 2\n",
    "print(gauss_sum)"
   ]
  },
  {
   "cell_type": "markdown",
   "id": "9902f058",
   "metadata": {},
   "source": [
    "### Exercise 5: Write a for loop that adds up the first 200 even numbers and print it to the screen (Hint: think of the step)"
   ]
  },
  {
   "cell_type": "code",
   "execution_count": null,
   "id": "6f8d319c",
   "metadata": {},
   "outputs": [],
   "source": []
  },
  {
   "cell_type": "markdown",
   "id": "cb2a9719",
   "metadata": {},
   "source": [
    "### Exercise 6: Write a for loop that outputs a right triangle made up of asterisks were the base is 10 asterisks. (Hint: print inside the loop)"
   ]
  },
  {
   "cell_type": "code",
   "execution_count": null,
   "id": "a4206f71",
   "metadata": {},
   "outputs": [],
   "source": []
  },
  {
   "cell_type": "markdown",
   "id": "9fcb2d3f",
   "metadata": {},
   "source": [
    "# Data Structures"
   ]
  },
  {
   "cell_type": "markdown",
   "id": "f1d1a4f9",
   "metadata": {},
   "source": [
    "# There are many data structures here we are going to focus on 2\n",
    "\n",
    "* lists\n",
    "* arrays (numpy)"
   ]
  },
  {
   "cell_type": "code",
   "execution_count": 260,
   "id": "4aba5062",
   "metadata": {},
   "outputs": [
    {
     "name": "stdout",
     "output_type": "stream",
     "text": [
      "['lion', 'dog', 'cat', 'rat']\n"
     ]
    }
   ],
   "source": [
    "# In python we define a list using square brackets [] separating\n",
    "# the elements with a comma.\n",
    "\n",
    "animals = ['lion', 'dog', 'cat', 'rat'] # list of 4 strings\n",
    "print(animals)"
   ]
  },
  {
   "cell_type": "code",
   "execution_count": 261,
   "id": "ac84e0c1",
   "metadata": {},
   "outputs": [
    {
     "name": "stdout",
     "output_type": "stream",
     "text": [
      "['lion', 'dog', 'cat', 'rat', 'pig', 'horse']\n"
     ]
    }
   ],
   "source": [
    "new_animals = ['pig', 'horse'] # list of 2 strings\n",
    "# We can use some operators between lists\n",
    "all_animals = animals + new_animals\n",
    "print(all_animals)"
   ]
  },
  {
   "cell_type": "code",
   "execution_count": 262,
   "id": "34655413",
   "metadata": {},
   "outputs": [
    {
     "name": "stdout",
     "output_type": "stream",
     "text": [
      "['$1', '$1', '$1', '$1', '$1', '$1', '$1', '$1', '$1', '$1', '$1', '$1', '$1', '$1', '$1', '$1', '$1', '$1', '$1', '$1', '$1', '$1', '$1', '$1', '$1', '$1', '$1', '$1', '$1', '$1', '$1', '$1', '$1', '$1', '$1', '$1', '$1', '$1', '$1', '$1', '$1', '$1', '$1', '$1', '$1', '$1', '$1', '$1', '$1', '$1']\n"
     ]
    }
   ],
   "source": [
    "one_dollar = ['$1'] # list with 1 string\n",
    "fifty_dollars = 50 * one_dollar # list with 50 strings\n",
    "print(fifty_dollars)"
   ]
  },
  {
   "cell_type": "code",
   "execution_count": 263,
   "id": "896bb721",
   "metadata": {},
   "outputs": [
    {
     "name": "stdout",
     "output_type": "stream",
     "text": [
      "['Helen', 28, 77.8]\n",
      "<class 'str'>\n",
      "<class 'int'>\n",
      "<class 'float'>\n"
     ]
    }
   ],
   "source": [
    "# A list is special because it can have mixed data types\n",
    "miscellaneous = ['Helen', 28, 77.8]\n",
    "print(miscellaneous)\n",
    "# We can iterate over the elements of a list with a for\n",
    "for element in miscellaneous:\n",
    "    print(type(element))\n",
    "# As we can see we have strings, integers and floats in our list"
   ]
  },
  {
   "cell_type": "code",
   "execution_count": 264,
   "id": "3e6e91dd",
   "metadata": {},
   "outputs": [
    {
     "name": "stdout",
     "output_type": "stream",
     "text": [
      "[2, 4, 6, 8, 10, 12, 14, 16, 18, 20, 22, 24, 26, 28, 30, 32, 34, 36, 38, 40, 42, 44, 46, 48, 50, 52, 54, 56, 58, 60, 62, 64, 66, 68, 70, 72, 74, 76, 78, 80, 82, 84, 86, 88, 90, 92, 94, 96, 98, 100]\n"
     ]
    }
   ],
   "source": [
    "# We can fill lists using the .append()\n",
    "evens = [] # Define an empty list\n",
    "for num in range(2, 102, 2):\n",
    "    evens.append(num) # appends num to the list\n",
    "print(evens)"
   ]
  },
  {
   "cell_type": "code",
   "execution_count": 265,
   "id": "5e1af29c",
   "metadata": {},
   "outputs": [
    {
     "name": "stdout",
     "output_type": "stream",
     "text": [
      "50\n"
     ]
    }
   ],
   "source": [
    "# We can get the length of a list with the len() function\n",
    "print(len(evens))"
   ]
  },
  {
   "cell_type": "code",
   "execution_count": 266,
   "id": "4ef6fdbe",
   "metadata": {},
   "outputs": [
    {
     "name": "stdout",
     "output_type": "stream",
     "text": [
      "2\n",
      "4\n",
      "100\n",
      "98\n"
     ]
    }
   ],
   "source": [
    "# We can access elements of a list by index or a list of indeces\n",
    "print(evens[0]) # gives us the element 0 or first element\n",
    "print(evens[1]) # gives us the element 1 or second element\n",
    "print(evens[-1]) # gives us the last element\n",
    "print(evens[-2]) # gives us the second to last"
   ]
  },
  {
   "cell_type": "code",
   "execution_count": 267,
   "id": "3e803af1",
   "metadata": {},
   "outputs": [
    {
     "name": "stdout",
     "output_type": "stream",
     "text": [
      "[2, 4, 6, 8, 10, 12, 14, 16, 18, 20]\n",
      "[82, 84, 86, 88, 90, 92, 94, 96, 98]\n",
      "[100, 98, 96, 94, 92, 90, 88, 86, 84, 82, 80, 78, 76, 74, 72, 70, 68, 66, 64, 62, 60, 58, 56, 54, 52, 50, 48, 46, 44, 42, 40, 38, 36, 34, 32, 30, 28, 26, 24, 22, 20, 18, 16, 14, 12, 10, 8, 6, 4, 2]\n"
     ]
    }
   ],
   "source": [
    "# We can also get slices of the list\n",
    "print(evens[0:10]) # gives us element 0 to 9\n",
    "print(evens[-10:-1]) # gives us the last 10 elements\n",
    "# We can invert a list also\n",
    "print(evens[::-1])"
   ]
  },
  {
   "cell_type": "code",
   "execution_count": 268,
   "id": "7582765d",
   "metadata": {},
   "outputs": [
    {
     "name": "stdout",
     "output_type": "stream",
     "text": [
      "Index:  0  Even:  2\n",
      "Index:  1  Even:  4\n",
      "Index:  2  Even:  6\n",
      "Index:  3  Even:  8\n",
      "Index:  4  Even:  10\n",
      "Index:  5  Even:  12\n",
      "Index:  6  Even:  14\n",
      "Index:  7  Even:  16\n",
      "Index:  8  Even:  18\n",
      "Index:  9  Even:  20\n",
      "Index:  10  Even:  22\n",
      "Index:  11  Even:  24\n",
      "Index:  12  Even:  26\n",
      "Index:  13  Even:  28\n",
      "Index:  14  Even:  30\n",
      "Index:  15  Even:  32\n",
      "Index:  16  Even:  34\n",
      "Index:  17  Even:  36\n",
      "Index:  18  Even:  38\n",
      "Index:  19  Even:  40\n",
      "Index:  20  Even:  42\n",
      "Index:  21  Even:  44\n",
      "Index:  22  Even:  46\n",
      "Index:  23  Even:  48\n",
      "Index:  24  Even:  50\n",
      "Index:  25  Even:  52\n",
      "Index:  26  Even:  54\n",
      "Index:  27  Even:  56\n",
      "Index:  28  Even:  58\n",
      "Index:  29  Even:  60\n",
      "Index:  30  Even:  62\n",
      "Index:  31  Even:  64\n",
      "Index:  32  Even:  66\n",
      "Index:  33  Even:  68\n",
      "Index:  34  Even:  70\n",
      "Index:  35  Even:  72\n",
      "Index:  36  Even:  74\n",
      "Index:  37  Even:  76\n",
      "Index:  38  Even:  78\n",
      "Index:  39  Even:  80\n",
      "Index:  40  Even:  82\n",
      "Index:  41  Even:  84\n",
      "Index:  42  Even:  86\n",
      "Index:  43  Even:  88\n",
      "Index:  44  Even:  90\n",
      "Index:  45  Even:  92\n",
      "Index:  46  Even:  94\n",
      "Index:  47  Even:  96\n",
      "Index:  48  Even:  98\n",
      "Index:  49  Even:  100\n"
     ]
    }
   ],
   "source": [
    "# we can use the len of the list to iterate over the elements\n",
    "for i in range(len(evens)):\n",
    "    # We can also access elements of a list by index inside the for\n",
    "    print('Index: ', i,' Even: ', evens[i])"
   ]
  },
  {
   "cell_type": "markdown",
   "id": "338d671d",
   "metadata": {},
   "source": [
    "### Exercise 7: Create a list of odd numbers from 1 to 100. Create a list of 25 'Jake' and 25 'Joe'. Check that the length of both lists is the same. Iterate over both lists and print the name and the number."
   ]
  },
  {
   "cell_type": "code",
   "execution_count": null,
   "id": "88f1ea16",
   "metadata": {},
   "outputs": [],
   "source": []
  },
  {
   "cell_type": "code",
   "execution_count": 269,
   "id": "9cfda60f",
   "metadata": {},
   "outputs": [
    {
     "name": "stdout",
     "output_type": "stream",
     "text": [
      "[0 0 0 0 0 0 0 0 0 0]\n",
      "[1 1 1 1 1 1 1 1 1 1]\n"
     ]
    }
   ],
   "source": [
    "# Numpy arrays are structures that only hold one data type and the size\n",
    "# of it needs to be known. Even though list are more flexible numpy\n",
    "# arrays are much faster for numeric work.\n",
    "\n",
    "# For this to work we need to import the numpy library.\n",
    "# Libraries are usually installed using the pip command in the terminal\n",
    "# Once intalled we can import as follows\n",
    "import numpy as np # Here we give the name of np to numpy so it is faster to type\n",
    "\n",
    "\n",
    "# This are different ways to initialize a numpy array\n",
    "\n",
    "array_of_zeros = np.zeros(10, dtype = int) # array of 10 integer zeros\n",
    "array_of_ones = np.ones(10, dtype = int) # array of 10 integer ones\n",
    "\n",
    "print(array_of_zeros)\n",
    "print(array_of_ones)"
   ]
  },
  {
   "cell_type": "code",
   "execution_count": 270,
   "id": "d49a5e50",
   "metadata": {},
   "outputs": [
    {
     "name": "stdout",
     "output_type": "stream",
     "text": [
      "[  2   4   6   8  10  12  14  16  18  20  22  24  26  28  30  32  34  36\n",
      "  38  40  42  44  46  48  50  52  54  56  58  60  62  64  66  68  70  72\n",
      "  74  76  78  80  82  84  86  88  90  92  94  96  98 100]\n",
      "[  2.   4.   6.   8.  10.  12.  14.  16.  18.  20.  22.  24.  26.  28.\n",
      "  30.  32.  34.  36.  38.  40.  42.  44.  46.  48.  50.  52.  54.  56.\n",
      "  58.  60.  62.  64.  66.  68.  70.  72.  74.  76.  78.  80.  82.  84.\n",
      "  86.  88.  90.  92.  94.  96.  98. 100.]\n"
     ]
    }
   ],
   "source": [
    "# We can also use the array() function to convert a list to an array\n",
    "\n",
    "array_evens_int = np.array(evens) # The type is determined automatically\n",
    "print(array_evens_int)\n",
    "\n",
    "array_evens_float = np.array(evens, dtype = float) # We can also change the type if needed\n",
    "print(array_evens_float)"
   ]
  },
  {
   "cell_type": "code",
   "execution_count": 271,
   "id": "3852200a",
   "metadata": {},
   "outputs": [
    {
     "name": "stdout",
     "output_type": "stream",
     "text": [
      "['Jake' 'Jake' 'Jake' 'Jake' 'Jake' 'Jake' 'Jake' 'Jake' 'Jake' 'Jake'\n",
      " 'Jake' 'Jake' 'Jake' 'Jake' 'Jake' 'Jake' 'Jake' 'Jake' 'Jake' 'Jake'\n",
      " 'Jake' 'Jake' 'Jake' 'Jake' 'Jake' 'Joe' 'Joe' 'Joe' 'Joe' 'Joe' 'Joe'\n",
      " 'Joe' 'Joe' 'Joe' 'Joe' 'Joe' 'Joe' 'Joe' 'Joe' 'Joe' 'Joe' 'Joe' 'Joe'\n",
      " 'Joe' 'Joe' 'Joe' 'Joe' 'Joe' 'Joe' 'Joe']\n"
     ]
    }
   ],
   "source": [
    "array_names = np.array(names)\n",
    "print(array_names)"
   ]
  },
  {
   "cell_type": "code",
   "execution_count": 272,
   "id": "65e95434",
   "metadata": {},
   "outputs": [
    {
     "name": "stdout",
     "output_type": "stream",
     "text": [
      "['Helen' '28' '77.8']\n"
     ]
    }
   ],
   "source": [
    "# As mentioned before we can only have one data type\n",
    "array_miscellaneous = np.array(miscellaneous)\n",
    "print(array_miscellaneous) # It automatically changed the type of the\n",
    "# numbers to the type of the first element strings."
   ]
  },
  {
   "cell_type": "code",
   "execution_count": 273,
   "id": "6e734d7f",
   "metadata": {},
   "outputs": [
    {
     "ename": "ValueError",
     "evalue": "invalid literal for int() with base 10: 'Helen'",
     "output_type": "error",
     "traceback": [
      "\u001b[0;31m---------------------------------------------------------------------------\u001b[0m",
      "\u001b[0;31mValueError\u001b[0m                                Traceback (most recent call last)",
      "Input \u001b[0;32mIn [273]\u001b[0m, in \u001b[0;36m<cell line: 2>\u001b[0;34m()\u001b[0m\n\u001b[1;32m      1\u001b[0m \u001b[38;5;66;03m# If we try to force it as integers it fails as Helen cant be converted\u001b[39;00m\n\u001b[0;32m----> 2\u001b[0m array_miscellaneous \u001b[38;5;241m=\u001b[39m \u001b[43mnp\u001b[49m\u001b[38;5;241;43m.\u001b[39;49m\u001b[43marray\u001b[49m\u001b[43m(\u001b[49m\u001b[43mmiscellaneous\u001b[49m\u001b[43m,\u001b[49m\u001b[43m \u001b[49m\u001b[43mdtype\u001b[49m\u001b[43m \u001b[49m\u001b[38;5;241;43m=\u001b[39;49m\u001b[43m \u001b[49m\u001b[38;5;28;43mint\u001b[39;49m\u001b[43m)\u001b[49m\n",
      "\u001b[0;31mValueError\u001b[0m: invalid literal for int() with base 10: 'Helen'"
     ]
    }
   ],
   "source": [
    "# If we try to force it as integers it fails as Helen cant be converted\n",
    "array_miscellaneous = np.array(miscellaneous, dtype = int)"
   ]
  },
  {
   "cell_type": "code",
   "execution_count": 274,
   "id": "55bf982b",
   "metadata": {},
   "outputs": [
    {
     "ename": "TypeError",
     "evalue": "can only concatenate list (not \"int\") to list",
     "output_type": "error",
     "traceback": [
      "\u001b[0;31m---------------------------------------------------------------------------\u001b[0m",
      "\u001b[0;31mTypeError\u001b[0m                                 Traceback (most recent call last)",
      "Input \u001b[0;32mIn [274]\u001b[0m, in \u001b[0;36m<cell line: 3>\u001b[0;34m()\u001b[0m\n\u001b[1;32m      1\u001b[0m \u001b[38;5;66;03m# Some of the benefits of numpy arrays\u001b[39;00m\n\u001b[1;32m      2\u001b[0m numbers \u001b[38;5;241m=\u001b[39m [\u001b[38;5;241m1\u001b[39m,\u001b[38;5;241m2\u001b[39m,\u001b[38;5;241m3\u001b[39m,\u001b[38;5;241m4\u001b[39m,\u001b[38;5;241m5\u001b[39m,\u001b[38;5;241m6\u001b[39m]\n\u001b[0;32m----> 3\u001b[0m numbers_plus_two \u001b[38;5;241m=\u001b[39m \u001b[43mnumbers\u001b[49m\u001b[43m \u001b[49m\u001b[38;5;241;43m+\u001b[39;49m\u001b[43m \u001b[49m\u001b[38;5;241;43m2\u001b[39;49m\n",
      "\u001b[0;31mTypeError\u001b[0m: can only concatenate list (not \"int\") to list"
     ]
    }
   ],
   "source": [
    "# Some of the benefits of numpy arrays\n",
    "numbers = [1,2,3,4,5,6]\n",
    "numbers_plus_two = numbers + 2 # This operation is not defined for lists"
   ]
  },
  {
   "cell_type": "code",
   "execution_count": 275,
   "id": "22bae6ef",
   "metadata": {},
   "outputs": [
    {
     "name": "stdout",
     "output_type": "stream",
     "text": [
      "[3, 4, 5, 6, 7, 8]\n"
     ]
    }
   ],
   "source": [
    "# To add a two to every element we need a for loop\n",
    "numbers_plus_two = []\n",
    "for i in range(len(numbers)):\n",
    "    numbers_plus_two.append(numbers[i] + 2)\n",
    "print(numbers_plus_two)"
   ]
  },
  {
   "cell_type": "code",
   "execution_count": 276,
   "id": "91c6a1d7",
   "metadata": {},
   "outputs": [
    {
     "name": "stdout",
     "output_type": "stream",
     "text": [
      "[3 4 5 6 7 8]\n"
     ]
    }
   ],
   "source": [
    "# For loops are usually very slow in python we can do better with numpy\n",
    "numbers_np = np.array([1,2,3,4,5,6])\n",
    "numbers_plus_two_np = numbers_np + 2 # This operations works and is faster\n",
    "print(numbers_plus_two_np)"
   ]
  },
  {
   "cell_type": "code",
   "execution_count": 277,
   "id": "ce2a6c59",
   "metadata": {},
   "outputs": [
    {
     "name": "stdout",
     "output_type": "stream",
     "text": [
      "[ 1  4  9 16 25 36]\n",
      "[0.5 1.  1.5 2.  2.5 3. ]\n",
      "[0 1 2 3 4 5]\n",
      "[10 20 30 40 50 60]\n"
     ]
    }
   ],
   "source": [
    "# We can also multiply, divide, subtract, elevate to a power\n",
    "print(numbers_np ** 2)\n",
    "print(numbers_np / 2)\n",
    "print(numbers_np - 1)\n",
    "print(numbers_np * 10)"
   ]
  },
  {
   "cell_type": "code",
   "execution_count": 278,
   "id": "45ecf137",
   "metadata": {},
   "outputs": [
    {
     "name": "stdout",
     "output_type": "stream",
     "text": [
      "[1, 2, 3, 4, 5, 6, 7, 8, 9, 10, 11, 12, 13, 14, 15, 16, 17, 18, 19, 20, 21, 22, 23, 24, 25, 26, 27, 28, 29, 30, 31, 32, 33, 34, 35, 36, 37, 38, 39, 40, 41, 42, 43, 44, 45, 46, 47, 48, 49, 50, 51, 52, 53, 54, 55, 56, 57, 58, 59, 60, 61, 62, 63, 64, 65, 66, 67, 68, 69, 70, 71, 72, 73, 74, 75, 76, 77, 78, 79, 80, 81, 82, 83, 84, 85, 86, 87, 88, 89, 90, 91, 92, 93, 94, 95, 96, 97, 98, 99] <class 'list'>\n"
     ]
    }
   ],
   "source": [
    "# We can also turn a numpy array into a list\n",
    "np_array_list = list(np.arange(1, 100, 1)) # np.arange is similar to range()\n",
    "print(np_array_list, type(np_array_list)) # As we can see is type list"
   ]
  },
  {
   "cell_type": "code",
   "execution_count": 279,
   "id": "727f697d",
   "metadata": {},
   "outputs": [
    {
     "name": "stdout",
     "output_type": "stream",
     "text": [
      "[1, 2, 3, 4, 5, 6, 7, 8, 9, 10, 11, 12, 13, 14, 15, 16, 17, 18, 19, 20, 21, 22, 23, 24, 25, 26, 27, 28, 29, 30, 31, 32, 33, 34, 35, 36, 37, 38, 39, 40, 41, 42, 43, 44, 45, 46, 47, 48, 49, 50, 51, 52, 53, 54, 55, 56, 57, 58, 59, 60, 61, 62, 63, 64, 65, 66, 67, 68, 69, 70, 71, 72, 73, 74, 75, 76, 77, 78, 79, 80, 81, 82, 83, 84, 85, 86, 87, 88, 89, 90, 91, 92, 93, 94, 95, 96, 97, 98, 99]\n",
      "[1, 2, 3, 4, 5, 6, 7, 8, 9, 10, 11, 12, 13, 14, 15, 16, 17, 18, 19, 20, 21, 22, 23, 24, 25, 26, 27, 28, 29, 30, 31, 32, 33, 34, 35, 36, 37, 38, 39, 40, 41, 42, 43, 44, 45, 46, 47, 48, 49, 50, 51, 52, 53, 54, 55, 56, 57, 58, 59, 60, 61, 62, 63, 64, 65, 66, 67, 68, 69, 70, 71, 72, 73, 74, 75, 76, 77, 78, 79, 80, 81, 82, 83, 84, 85, 86, 87, 88, 89, 90, 91, 92, 93, 94, 95, 96, 97, 98, 99]\n"
     ]
    }
   ],
   "source": [
    "# Another way of doing this without numpy is\n",
    "list_nums = list(range(1,100,1)) # We need to convert the iterator to a list\n",
    "print(list_nums)\n",
    "\n",
    "# Another way of doing this\n",
    "list_nums = [*range(1,100,1)] # The * operator in this case is used to unpack the iterator\n",
    "print(list_nums)"
   ]
  },
  {
   "cell_type": "markdown",
   "id": "98ff2b2e",
   "metadata": {},
   "source": [
    "### Exercise 8: Create a list of numbers from 0 to 49 and a list from 50 to 99. Add the elements from each list elementwise to a temporary list. Output this list and then add the all the elements of the temporary list and print the final sum. Do the same using numpy arrays (Hint: read about the np.sum function for the last part)."
   ]
  },
  {
   "cell_type": "code",
   "execution_count": 375,
   "id": "abf0d593",
   "metadata": {},
   "outputs": [
    {
     "name": "stdout",
     "output_type": "stream",
     "text": [
      "(1000, 3)\n",
      "[[0. 0. 0.]\n",
      " [0. 0. 0.]\n",
      " [0. 0. 0.]\n",
      " ...\n",
      " [0. 0. 0.]\n",
      " [0. 0. 0.]\n",
      " [0. 0. 0.]]\n"
     ]
    }
   ],
   "source": [
    "# Arrays and list can also be multidimensional for example\n",
    "# Let say we have vectors with components [x, y, z] this can be \n",
    "# regarded as a list of 3 elements or an array of 3 elements.\n",
    "# But now consider we have many vectors. For example a protein with\n",
    "# 1000 atoms each with a vector that denotes its position.\n",
    "\n",
    "# We can specify any set of dimensions with parenthesis and separated by\n",
    "# a comma when we define our array\n",
    "\n",
    "positions = np.zeros((1000, 3)) # In this case we have a multidimensional array\n",
    "\n",
    "# We have set it to 1000 rows and each row has 3 columns\n",
    "# We can access the this information with the np.shape() function\n",
    "print(np.shape(positions))\n",
    "\n",
    "# Right now our array is not that interesting as it is full of zeros\n",
    "print(positions)"
   ]
  },
  {
   "cell_type": "code",
   "execution_count": 376,
   "id": "11c0c404",
   "metadata": {},
   "outputs": [
    {
     "name": "stdout",
     "output_type": "stream",
     "text": [
      "[[1. 0. 0.]\n",
      " [0. 0. 0.]\n",
      " [0. 0. 0.]\n",
      " ...\n",
      " [0. 0. 0.]\n",
      " [0. 0. 0.]\n",
      " [0. 0. 0.]]\n"
     ]
    }
   ],
   "source": [
    "# Since we are now working with a 2d array we need to indeces to access\n",
    "# our values for example lets make the element of the first row and\n",
    "# the first column equal to 1\n",
    "\n",
    "positions[0][0] = 1\n",
    "print(positions)"
   ]
  },
  {
   "cell_type": "code",
   "execution_count": 377,
   "id": "0325d964",
   "metadata": {},
   "outputs": [],
   "source": [
    "# Lets see how we can access all the values of this 2d array\n",
    "# First we can use np.shape to save the dimensions of the array\n",
    "# We can assign more than one variable in one line as long as we have\n",
    "# enough elements. Here we know shape returns 2 values so we assign them\n",
    "# to 2 variables\n",
    "rows, cols = np.shape(positions)\n",
    "for i in range(rows):\n",
    "    for j in range(cols):\n",
    "        positions[i][j] = np.random.random()# Here we need 2 indeces one for the row and one for the column\n",
    "# Here np.random.random returns a random value between 0 and 1"
   ]
  },
  {
   "cell_type": "code",
   "execution_count": 378,
   "id": "096a5411",
   "metadata": {},
   "outputs": [
    {
     "name": "stdout",
     "output_type": "stream",
     "text": [
      "[[0.31469806 0.67438884 0.12670916]\n",
      " [0.60697671 0.59751768 0.16656262]\n",
      " [0.01128172 0.40844766 0.80132082]\n",
      " ...\n",
      " [0.96118928 0.20853858 0.4000815 ]\n",
      " [0.96483861 0.13626114 0.86532782]\n",
      " [0.7381341  0.03600488 0.98048102]]\n"
     ]
    }
   ],
   "source": [
    "print(positions)"
   ]
  },
  {
   "cell_type": "code",
   "execution_count": 379,
   "id": "36bb7c7e",
   "metadata": {},
   "outputs": [
    {
     "name": "stdout",
     "output_type": "stream",
     "text": [
      "[[0.55466557 0.15617539 0.03130884]\n",
      " [0.06279253 0.69482362 0.17699698]\n",
      " [0.29008225 0.82026939 0.42529261]\n",
      " ...\n",
      " [0.78958609 0.59502722 0.77174727]\n",
      " [0.93335646 0.19821037 0.70019045]\n",
      " [0.32926181 0.7956998  0.64468014]]\n"
     ]
    }
   ],
   "source": [
    "# Now that we learn how to access 2d array elements in the case of\n",
    "# generating random arrays there is an easier way\n",
    "# Here we generate random numbers between 0 and 1 for a given shape\n",
    "random_positions = np.random.rand(1000,3)\n",
    "print(random_positions)"
   ]
  },
  {
   "cell_type": "markdown",
   "id": "aac4e5b8",
   "metadata": {},
   "source": [
    "# Conditionals"
   ]
  },
  {
   "cell_type": "markdown",
   "id": "fb6fc1d6",
   "metadata": {},
   "source": [
    "This are logical operations that we can add to our program to make decisions based on certain conditions."
   ]
  },
  {
   "cell_type": "code",
   "execution_count": 380,
   "id": "7538b5ed",
   "metadata": {},
   "outputs": [
    {
     "name": "stdout",
     "output_type": "stream",
     "text": [
      "1\n",
      "0\n",
      "1\n"
     ]
    }
   ],
   "source": [
    "# Lets first introduce another very simple data type a bool or boolean\n",
    "# this a data type that takes only two values either True or False\n",
    "\n",
    "true_bool = True\n",
    "false_bool = False\n",
    "\n",
    "# We can perform some operations between booleans\n",
    "\n",
    "# When we do the arithmetic operations True takes the value of 1 and False a value of 0\n",
    "print(true_bool + false_bool)\n",
    "print(true_bool * false_bool)\n",
    "print(true_bool - false_bool)"
   ]
  },
  {
   "cell_type": "code",
   "execution_count": 381,
   "id": "d5786cf6",
   "metadata": {},
   "outputs": [
    {
     "name": "stdout",
     "output_type": "stream",
     "text": [
      "False\n",
      "True\n",
      "False\n"
     ]
    }
   ],
   "source": [
    "# For bool types we also have the logic operators\n",
    "print(true_bool and false_bool) # Needs both to be True to be True\n",
    "print(true_bool or false_bool)  # Only needs one True to be True\n",
    "# We can also negate the expressions with the not\n",
    "print(not true_bool)"
   ]
  },
  {
   "cell_type": "code",
   "execution_count": 382,
   "id": "6202ebcd",
   "metadata": {},
   "outputs": [
    {
     "name": "stdout",
     "output_type": "stream",
     "text": [
      "False\n",
      "True\n",
      "False\n",
      "True\n"
     ]
    }
   ],
   "source": [
    "# We can also use comparisons to create booleans\n",
    "# The == compare gives True if the values on both sides are equal\n",
    "exp_bool = 5 == 6 # is 5 equal to 6 -> False\n",
    "print(exp_bool)\n",
    "# The != compare gives True if the values on both sides are different\n",
    "exp_bool = 5 != 6  # is 5 different than 6 -> True \n",
    "print(exp_bool)\n",
    "exp_bool = 5 > 6  # is 5 greater than 6 -> False \n",
    "print(exp_bool)\n",
    "exp_bool = 5 < 6  # is 5 smaller than 6 -> True \n",
    "print(exp_bool)\n",
    "# To this last two we can the = sign to modify them to greater than\n",
    "# or equal to (>=) or less than or equal to (<=) "
   ]
  },
  {
   "cell_type": "code",
   "execution_count": 383,
   "id": "d547643a",
   "metadata": {},
   "outputs": [
    {
     "name": "stdout",
     "output_type": "stream",
     "text": [
      "False\n",
      "True\n"
     ]
    }
   ],
   "source": [
    "# We can combine what we learn from the logical operators with the\n",
    "# comparisons\n",
    "\n",
    "bool_long = 8 > 6 and 7 == 6 # Left is true but right is false so false\n",
    "print(bool_long)\n",
    "bool_long = 10 > -5 and 7 >= 7 # Both true so true\n",
    "print(bool_long)"
   ]
  },
  {
   "cell_type": "code",
   "execution_count": 384,
   "id": "1b6f8167",
   "metadata": {},
   "outputs": [
    {
     "name": "stdout",
     "output_type": "stream",
     "text": [
      "Positive number\n"
     ]
    }
   ],
   "source": [
    "# Now the final part is to add conditionals to this statements\n",
    "\n",
    "c = 20\n",
    "\n",
    "# This is an if-else statement if our expression is true we go inside\n",
    "# otherwise we go inside the else\n",
    "\n",
    "if c >= 0:\n",
    "    print('Positive number')\n",
    "else:\n",
    "    print('Negative number')"
   ]
  },
  {
   "cell_type": "code",
   "execution_count": 385,
   "id": "fac8ab34",
   "metadata": {},
   "outputs": [
    {
     "name": "stdout",
     "output_type": "stream",
     "text": [
      "Badluck:  1\n",
      "Multiple of 2:  2\n",
      "Multiple of 3:  3\n",
      "Multiple of 2:  4\n",
      "Badluck:  5\n",
      "Multiple of 2:  6\n",
      "Badluck:  7\n",
      "Multiple of 2:  8\n",
      "Multiple of 3:  9\n",
      "Multiple of 2:  10\n",
      "Badluck:  11\n",
      "Multiple of 2:  12\n",
      "Badluck:  13\n",
      "Multiple of 2:  14\n",
      "Multiple of 3:  15\n",
      "Multiple of 2:  16\n",
      "Badluck:  17\n",
      "Multiple of 2:  18\n",
      "Badluck:  19\n",
      "Multiple of 2:  20\n"
     ]
    }
   ],
   "source": [
    "# We can also have more than one condition. We want to know if a number\n",
    "# is a multiple of 2 but also if it is a multiple of 3\n",
    "\n",
    "nums = np.arange(1, 21) # list of number 1-20\n",
    "for num in nums: # for loop over the list\n",
    "    if num % 2 == 0: # if the number is multiple of 2\n",
    "        print(\"Multiple of 2: \", num)\n",
    "    elif num % 3 == 0: # if number is multiple of 3\n",
    "        print(\"Multiple of 3: \", num)\n",
    "    else:\n",
    "        print(\"Badluck: \", num)\n",
    "        \n",
    "# There is a bug when a number is multiple of both 2 and 3 it only shows\n",
    "# as a multiple of 2 since it is the first if. Try modyfing it to also\n",
    "# consider this situation"
   ]
  },
  {
   "cell_type": "code",
   "execution_count": null,
   "id": "27e62454",
   "metadata": {},
   "outputs": [],
   "source": []
  },
  {
   "cell_type": "code",
   "execution_count": 386,
   "id": "9a5e2b0c",
   "metadata": {},
   "outputs": [
    {
     "name": "stdout",
     "output_type": "stream",
     "text": [
      "This name is valid:  Peter\n",
      "Invalid name:  Matt\n",
      "This name is valid:  Taylor\n",
      "Invalid name:  Nate\n",
      "Invalid name:  Sydney\n"
     ]
    }
   ],
   "source": [
    "# We can also have nested conditionals. For example we want the names\n",
    "# than have more than 4 letters and start with either T or P.\n",
    "names = ['Peter', 'Matt', 'Taylor', 'Nate', 'Sydney']\n",
    "\n",
    "for name in names:\n",
    "    if len(name) > 4: # We can use the len() function with strings since they are a list of characters\n",
    "        if name[0] == 'T' or name[0] == 'P': # For the same reason we can index a string to get the first letter\n",
    "            print('This name is valid: ', name)\n",
    "        else:\n",
    "            print('Invalid name: ', name)\n",
    "    else:\n",
    "        print('Invalid name: ', name)"
   ]
  },
  {
   "cell_type": "markdown",
   "id": "a711005f",
   "metadata": {},
   "source": [
    "### Exercise 9: Given the following DNA sequence. Find the GC content. In other words find how many times either of these pairs occurs and divide by the total. Also find the number of start codons ATG and end codons TAA, TAG and TGA"
   ]
  },
  {
   "cell_type": "code",
   "execution_count": 387,
   "id": "f9fb47ce",
   "metadata": {},
   "outputs": [
    {
     "name": "stdout",
     "output_type": "stream",
     "text": [
      "CCGAGGGCACAATCCTATTCCCATTTGTATGTTCAGCTATCTTCTACCCATCCCCGGAAGTTAAGTAGGTCGTGAGATGCCGAGGAGGCTCTCGTTCATCCCGTGGGACATCAAGCTTCCCCTTGATAAAGCACCCCGCTCGGGTATGGCAGAGAGGACGCCTTCTGAATTGTGCTATCCCTCGACCTTATCAAAGCTTGCTACCAATAATTAGGATTATTGCCTTGCGACAGACCTCCTACTCAGACTGCCTCACATTGAGCTAGTCAGTGAGCGATAAGCTTGACCCGCTTTCTAGGGTCGCGAGTACGTGAACTAGGGCTCCGGACAGGGCTATATACTCGAGTTTGATCTCGCCCCGACAACTGCAAACCTCAACTTTTTTAGATAATATGGTTAGCCGAAGTTGCACGAGGTGCCGTCCGCGGACTGCTCCCCGGGTGTGGCTCCTTCATCTGACAACGTGCAACCCCTATCGCCATCGATTGTTTCTGCGGACGGTGTTGTCCTCATAGTTTGGGCATGTTTCCCTTGTAGGTGTGAAACCACTTAGCTTCGCGCCGTAGTCCTAAAGGAAAACCTATGGACTTTGTTTCGGGTAGCACCAGGAATCTGAACCATGTGAATGTGGACGTGGCGCGCGTACACCTTAATCTCCGGTTCATGCTAGGGATGTGGCTGCATGCTACGTTGACACACCTACACTGCTCGAAGTAAATATACGAAGCGCGCGGCCTGGCCGGAGCCGTTCCGCATCGTCACGTGTTCGTTTACTGTTAATTGGTGGCACATAAGCAATATCGTAGTCCGTCAAATTCAGCCCTGTTATCCCCGGCGTTATGTGTCAAATGGCGTAGAACTGGATTGACTGTTTGACGGTACCTGCTGATCGGTACGGTGACCGAGAATCTGTCGGGCTATGTCACTAATACTTTCCAAACGCCCCGTATCGATGCTGAACGAATCGATGCACGCTCCCGTCTTTGAAAACGCATAAACA\n"
     ]
    }
   ],
   "source": [
    "# Ignore the backslashes they are used when a string is very long\n",
    "\n",
    "DNA_seq = '\\\n",
    "CCGAGGGCACAATCCTATTCCCATTTGTATG\\\n",
    "TTCAGCTATCTTCTACCCATCCCCGGAAGTT\\\n",
    "AAGTAGGTCGTGAGATGCCGAGGAGGCTCTC\\\n",
    "GTTCATCCCGTGGGACATCAAGCTTCCCCTT\\\n",
    "GATAAAGCACCCCGCTCGGGTATGGCAGAGA\\\n",
    "GGACGCCTTCTGAATTGTGCTATCCCTCGAC\\\n",
    "CTTATCAAAGCTTGCTACCAATAATTAGGAT\\\n",
    "TATTGCCTTGCGACAGACCTCCTACTCAGAC\\\n",
    "TGCCTCACATTGAGCTAGTCAGTGAGCGATA\\\n",
    "AGCTTGACCCGCTTTCTAGGGTCGCGAGTAC\\\n",
    "GTGAACTAGGGCTCCGGACAGGGCTATATAC\\\n",
    "TCGAGTTTGATCTCGCCCCGACAACTGCAAA\\\n",
    "CCTCAACTTTTTTAGATAATATGGTTAGCCG\\\n",
    "AAGTTGCACGAGGTGCCGTCCGCGGACTGCT\\\n",
    "CCCCGGGTGTGGCTCCTTCATCTGACAACGT\\\n",
    "GCAACCCCTATCGCCATCGATTGTTTCTGCG\\\n",
    "GACGGTGTTGTCCTCATAGTTTGGGCATGTT\\\n",
    "TCCCTTGTAGGTGTGAAACCACTTAGCTTCG\\\n",
    "CGCCGTAGTCCTAAAGGAAAACCTATGGACT\\\n",
    "TTGTTTCGGGTAGCACCAGGAATCTGAACCA\\\n",
    "TGTGAATGTGGACGTGGCGCGCGTACACCTT\\\n",
    "AATCTCCGGTTCATGCTAGGGATGTGGCTGC\\\n",
    "ATGCTACGTTGACACACCTACACTGCTCGAA\\\n",
    "GTAAATATACGAAGCGCGCGGCCTGGCCGGA\\\n",
    "GCCGTTCCGCATCGTCACGTGTTCGTTTACT\\\n",
    "GTTAATTGGTGGCACATAAGCAATATCGTAG\\\n",
    "TCCGTCAAATTCAGCCCTGTTATCCCCGGCG\\\n",
    "TTATGTGTCAAATGGCGTAGAACTGGATTGA\\\n",
    "CTGTTTGACGGTACCTGCTGATCGGTACGGT\\\n",
    "GACCGAGAATCTGTCGGGCTATGTCACTAAT\\\n",
    "ACTTTCCAAACGCCCCGTATCGATGCTGAAC\\\n",
    "GAATCGATGCACGCTCCCGTCTTTGAAAACG\\\n",
    "CATAAACA'\n",
    "\n",
    "print(DNA_seq)"
   ]
  },
  {
   "cell_type": "code",
   "execution_count": null,
   "id": "f7dabdcd",
   "metadata": {},
   "outputs": [],
   "source": []
  },
  {
   "cell_type": "markdown",
   "id": "ab687b13",
   "metadata": {},
   "source": [
    "# Functions"
   ]
  },
  {
   "cell_type": "markdown",
   "id": "bdcb500f",
   "metadata": {},
   "source": [
    "We have been using functions all along but lets see how we can create one"
   ]
  },
  {
   "cell_type": "code",
   "execution_count": 390,
   "id": "51487d67",
   "metadata": {},
   "outputs": [
    {
     "name": "stdout",
     "output_type": "stream",
     "text": [
      "<class 'function'>\n"
     ]
    }
   ],
   "source": [
    "# All we need to do is use def to define a function\n",
    "# This is a function with 0 arguments \n",
    "def print_10_times():\n",
    "    for i in range(10):\n",
    "        print('Print Hello')\n",
    "    return # Notice our function does not return anything but it prints inside the loop\n",
    "# Nothing will execute but our function is created\n",
    "print(type(print_10_times))"
   ]
  },
  {
   "cell_type": "code",
   "execution_count": 392,
   "id": "4220f144",
   "metadata": {},
   "outputs": [
    {
     "name": "stdout",
     "output_type": "stream",
     "text": [
      "Print Hello\n",
      "Print Hello\n",
      "Print Hello\n",
      "Print Hello\n",
      "Print Hello\n",
      "Print Hello\n",
      "Print Hello\n",
      "Print Hello\n",
      "Print Hello\n",
      "Print Hello\n"
     ]
    }
   ],
   "source": [
    "# we can call our function\n",
    "print_10_times() # Remember the parenthesis at the end"
   ]
  },
  {
   "cell_type": "code",
   "execution_count": 393,
   "id": "90a803ae",
   "metadata": {},
   "outputs": [],
   "source": [
    "# Lets create a function that count the number of characters in a\n",
    "# string\n",
    "\n",
    "def my_len(word): # our function has one argument\n",
    "    count = 0\n",
    "    for char in word:\n",
    "        count += 1\n",
    "    return count # This is how we can return an output"
   ]
  },
  {
   "cell_type": "code",
   "execution_count": 396,
   "id": "0f2ecaa8",
   "metadata": {},
   "outputs": [
    {
     "name": "stdout",
     "output_type": "stream",
     "text": [
      "5\n"
     ]
    }
   ],
   "source": [
    "test_str = \"Peter\"\n",
    "result = my_len(test_str) # We save the output of the function into result\n",
    "print(result)"
   ]
  },
  {
   "cell_type": "code",
   "execution_count": 397,
   "id": "6b8b4287",
   "metadata": {},
   "outputs": [
    {
     "name": "stdout",
     "output_type": "stream",
     "text": [
      "True\n"
     ]
    }
   ],
   "source": [
    "# We can compare this agaisnt the len() function\n",
    "print(my_len(test_str) == len(test_str))"
   ]
  },
  {
   "cell_type": "code",
   "execution_count": 400,
   "id": "b825cfde",
   "metadata": {},
   "outputs": [],
   "source": [
    "# Lets write a function to calculate the area of a circle and its circunference\n",
    "# We require to know the radius of the circle therefore we need it as\n",
    "# an argument\n",
    "def circle(radius):\n",
    "    area = np.pi * radius ** 2 # We use the Pi value saved in numpy\n",
    "    perimeter = 2 * np.pi * radius \n",
    "    return area, perimeter # We can return both values using a comma"
   ]
  },
  {
   "cell_type": "code",
   "execution_count": 402,
   "id": "eb6e16cc",
   "metadata": {},
   "outputs": [
    {
     "name": "stdout",
     "output_type": "stream",
     "text": [
      "50.26548245743669 25.132741228718345\n",
      "314.1592653589793 62.83185307179586\n"
     ]
    }
   ],
   "source": [
    "area_4, perimeter_4 = circle(4)\n",
    "print(area_4, perimeter_4)\n",
    "area_10, perimeter_10 = circle(10)\n",
    "print(area_10, perimeter_10)"
   ]
  },
  {
   "cell_type": "code",
   "execution_count": 431,
   "id": "e4b48fee",
   "metadata": {},
   "outputs": [],
   "source": [
    "# Lets create a function to calculate the weighted average of a set of\n",
    "# grades for a given school and return the letter grade of the student\n",
    "# and its name. We will also intoduce a small information to tell what \n",
    "# our function does know as a docstring\n",
    "\n",
    "# We are assuming students is a list of strings\n",
    "# grades is a 2d array with 4 grades per student\n",
    "# Weight is also a 2d array with the weight for each assignment\n",
    "\n",
    "def get_grades(students, grades, weights):\n",
    "    '''\n",
    "    Calculates the final grade of the students by using a weighted average\n",
    "    '''\n",
    "    for i, student in enumerate(students): # Enumerate is used to get the element of the list as well as an index\n",
    "        total_weight = 0.0\n",
    "        weighted_sum = 0.0\n",
    "        for grade, weight  in zip(grades[i], weights): # Zip is used to iterate over the pairs\n",
    "            weighted_sum += grade * weight\n",
    "            total_weight += weight\n",
    "            \n",
    "        final = round(weighted_sum / total_weight, 1)\n",
    "        \n",
    "        if 90 < final <= 100:\n",
    "            print(student, 'A', final)\n",
    "        elif 80 < final <= 90:\n",
    "            print(student, 'B', final)\n",
    "        elif 60 < final <= 80:\n",
    "            print(student, 'C', final)\n",
    "        else:\n",
    "            print(student, 'F', final)\n",
    "    \n",
    "    return"
   ]
  },
  {
   "cell_type": "code",
   "execution_count": 440,
   "id": "f934334f",
   "metadata": {},
   "outputs": [
    {
     "name": "stdout",
     "output_type": "stream",
     "text": [
      "[[47.2 54.9  3.1 11.6]\n",
      " [35.6 61.1 99.8 83.8]\n",
      " [98.2  3.8 84.7 64.8]\n",
      " [42.6 88.4 69.8 53. ]\n",
      " [75.5 38.7 68.3 15.3]]\n"
     ]
    }
   ],
   "source": [
    "# Lets create our students\n",
    "names = ['Peter', 'Alice', 'Kate', 'Joe', 'James']\n",
    "# Homeworks, quizes, midterm, final \n",
    "weights = [10, 5, 30, 50]\n",
    "# Now we need to generate random data for them. Each rows corresponds\n",
    "# to a student and each column the grade for that assignment\n",
    "# We multiply by 100 because our grades are from 0 to 100 finally \n",
    "# we use round to limit our grades to one decimal\n",
    "grades = np.round(100 * np.random.rand(len(names), len(weights)), 1)\n",
    "print(grades)"
   ]
  },
  {
   "cell_type": "code",
   "execution_count": 441,
   "id": "af575e16",
   "metadata": {},
   "outputs": [
    {
     "name": "stdout",
     "output_type": "stream",
     "text": [
      "Peter F 14.9\n",
      "Alice B 82.6\n",
      "Kate C 71.4\n",
      "Joe F 59.1\n",
      "James F 39.6\n"
     ]
    }
   ],
   "source": [
    "# Now lets use our function passing the 3 arguments\n",
    "get_grades(names, grades, weights)"
   ]
  },
  {
   "cell_type": "markdown",
   "id": "3139f976",
   "metadata": {},
   "source": [
    "### Exercise 10: The following function reads a protein data bank file and saves the positions of the atoms to an array as well as the element of each atom to a list. Write another function that uses this helper function to calculate the center of mass of ubiquitin found in the data folder."
   ]
  },
  {
   "cell_type": "code",
   "execution_count": null,
   "id": "b19c47f6",
   "metadata": {},
   "outputs": [],
   "source": [
    "def read_pdb(file_name):\n",
    "    with open(file_name, 'r') as f:\n",
    "        positions = []\n",
    "        elements = []\n",
    "        for line in f:\n",
    "            data = line.split()\n",
    "            positions.append(data[6:9])\n",
    "            elements.append(data[-1])\n",
    "    return np.array(positions, dtype = float), elements"
   ]
  }
 ],
 "metadata": {
  "kernelspec": {
   "display_name": "Python 3 (ipykernel)",
   "language": "python",
   "name": "python3"
  },
  "language_info": {
   "codemirror_mode": {
    "name": "ipython",
    "version": 3
   },
   "file_extension": ".py",
   "mimetype": "text/x-python",
   "name": "python",
   "nbconvert_exporter": "python",
   "pygments_lexer": "ipython3",
   "version": "3.9.5"
  }
 },
 "nbformat": 4,
 "nbformat_minor": 5
}
