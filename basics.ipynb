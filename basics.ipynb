{
 "cells": [
  {
   "cell_type": "markdown",
   "id": "39ce37ad",
   "metadata": {},
   "source": [
    "# Comments"
   ]
  },
  {
   "cell_type": "markdown",
   "id": "d0f8d58f",
   "metadata": {},
   "source": [
    "Single line comments in python are written using a #. Comments are lines that will not be executed but are useful to provide information about the code."
   ]
  },
  {
   "cell_type": "code",
   "execution_count": null,
   "id": "e2787c82",
   "metadata": {},
   "outputs": [],
   "source": [
    "# This is a comment"
   ]
  },
  {
   "cell_type": "markdown",
   "id": "a5af287c",
   "metadata": {},
   "source": [
    "# Data Types"
   ]
  },
  {
   "cell_type": "markdown",
   "id": "b299fb55",
   "metadata": {},
   "source": [
    "This is a very short introduction into some useful data types in python.\n",
    "\n",
    "* Strings\n",
    "* Integers\n",
    "* Floats"
   ]
  },
  {
   "cell_type": "code",
   "execution_count": null,
   "id": "e0361d74",
   "metadata": {},
   "outputs": [],
   "source": [
    "# In python we can define a string using single or double quotes\n",
    "name = 'Amy'\n",
    "last_name = 'Smith'\n",
    "\n",
    "# The assign operator in this case the equal sign is used to assign\n",
    "# A value to a variable. In this case the variables are to the left\n",
    "# of the operator and we are assigning string values to these variables"
   ]
  },
  {
   "cell_type": "code",
   "execution_count": null,
   "id": "a89689ff",
   "metadata": {},
   "outputs": [],
   "source": [
    "# We use the print() function to output the values of variables\n",
    "print(name)"
   ]
  },
  {
   "cell_type": "code",
   "execution_count": null,
   "id": "720dafa0",
   "metadata": {},
   "outputs": [],
   "source": [
    "# Functions are called using the name of the function \n",
    "# Followed by parenthesis. If the function has arguments, they are\n",
    "# given inside the parenthesis"
   ]
  },
  {
   "cell_type": "markdown",
   "id": "c8ea290b",
   "metadata": {},
   "source": [
    "### Exercise 1: Create a variable dog and assign a string value as its name also output the value of the variable with the print function "
   ]
  },
  {
   "cell_type": "code",
   "execution_count": null,
   "id": "fcbe4816",
   "metadata": {},
   "outputs": [],
   "source": []
  },
  {
   "cell_type": "code",
   "execution_count": null,
   "id": "86c70843",
   "metadata": {},
   "outputs": [],
   "source": [
    "# In python we can also have numeric variables such as integers and\n",
    "# floats.\n",
    "\n",
    "x = 10 # this is an example of an integer variable\n",
    "y = 10.5 # this is an example of a floating point variable (float)\n",
    "\n",
    "# The print function can receive infinite number of parameters separated\n",
    "# with a comma and then outputs them with a white space separating the\n",
    "# values\n",
    "\n",
    "print(x, y)"
   ]
  },
  {
   "cell_type": "code",
   "execution_count": null,
   "id": "cd75c152",
   "metadata": {},
   "outputs": [],
   "source": [
    "# The type() function is used to ask our variables what type they are\n",
    "\n",
    "name_type = type(name) # saves the output of type into a variable\n",
    "print(name_type)"
   ]
  },
  {
   "cell_type": "code",
   "execution_count": null,
   "id": "dfede4e4",
   "metadata": {},
   "outputs": [],
   "source": [
    "# As we can see it returns what we expected we knew we had previosly\n",
    "# assigned a str or string to our variable name"
   ]
  },
  {
   "cell_type": "markdown",
   "id": "d20d830b",
   "metadata": {},
   "source": [
    "### Exercise 2: Create a float named width and an integer called year. Output the width and year separated by a space. Also output the type of each variable separated by a space. "
   ]
  },
  {
   "cell_type": "code",
   "execution_count": null,
   "id": "d94984e4",
   "metadata": {},
   "outputs": [],
   "source": []
  },
  {
   "cell_type": "markdown",
   "id": "73978a1c",
   "metadata": {},
   "source": [
    "# Operators"
   ]
  },
  {
   "cell_type": "markdown",
   "id": "fe589d0e",
   "metadata": {},
   "source": [
    "We can perform different type of operations to our variables but we need to keep in mind how is the operation we used defined for a given data type \n",
    "\n",
    "* \\+ (addition)\n",
    "* \\- (substraction)\n",
    "* \\* (multiplication)\n",
    "* / (division)\n",
    "* // (integer division)\n",
    "* ** (power)\n",
    "* % (modulus)"
   ]
  },
  {
   "cell_type": "code",
   "execution_count": null,
   "id": "a3cab4b2",
   "metadata": {},
   "outputs": [],
   "source": [
    "a = 5\n",
    "b = 8\n",
    "print(a + b)"
   ]
  },
  {
   "cell_type": "code",
   "execution_count": null,
   "id": "fe7b55cb",
   "metadata": {},
   "outputs": [],
   "source": [
    "print(a - b)"
   ]
  },
  {
   "cell_type": "code",
   "execution_count": null,
   "id": "ab0c9a37",
   "metadata": {},
   "outputs": [],
   "source": [
    "print(a * b)"
   ]
  },
  {
   "cell_type": "code",
   "execution_count": null,
   "id": "c19b2399",
   "metadata": {},
   "outputs": [],
   "source": [
    "print(a // b)"
   ]
  },
  {
   "cell_type": "code",
   "execution_count": null,
   "id": "06d4ab74",
   "metadata": {},
   "outputs": [],
   "source": [
    "# Notice that from this operation between two integers we got a float\n",
    "print(a / b)"
   ]
  },
  {
   "cell_type": "code",
   "execution_count": null,
   "id": "11199d47",
   "metadata": {},
   "outputs": [],
   "source": [
    "# we can also use values in operations without creating a variable\n",
    "print(a ** 2)"
   ]
  },
  {
   "cell_type": "code",
   "execution_count": null,
   "id": "494f6ea1",
   "metadata": {},
   "outputs": [],
   "source": [
    "print(10 % 2) # Remainder of the division 10 / 2"
   ]
  },
  {
   "cell_type": "code",
   "execution_count": null,
   "id": "f646fa1d",
   "metadata": {},
   "outputs": [],
   "source": [
    "# We can also do operations between strings\n",
    "\n",
    "full_name = name + last_name\n",
    "print(full_name)"
   ]
  },
  {
   "cell_type": "code",
   "execution_count": null,
   "id": "90dff7d9",
   "metadata": {},
   "outputs": [],
   "source": [
    "# Some operations are not defined for a given data type\n",
    "# We get an error unsupported operand (-) between strings\n",
    "print(name - last_name)"
   ]
  },
  {
   "cell_type": "markdown",
   "id": "96788b43",
   "metadata": {},
   "source": [
    "### Exercise 3: Create a variable dog_last and assign a string as its last name. Create a variable called dog_full that has the name and the last name separated by and underscore and output it "
   ]
  },
  {
   "cell_type": "code",
   "execution_count": null,
   "id": "072e951c",
   "metadata": {},
   "outputs": [],
   "source": []
  },
  {
   "cell_type": "code",
   "execution_count": null,
   "id": "3d0618b1",
   "metadata": {},
   "outputs": [],
   "source": [
    "# Some operations are also defined between mixed data types\n",
    "\n",
    "asterisk = '*' # Variable asterisk holds a string of one character *\n",
    "ten_asterisks = 10 * asterisk # We can mupltiply a string with a integer\n",
    "print(ten_asterisks)"
   ]
  },
  {
   "cell_type": "code",
   "execution_count": null,
   "id": "f8ef8b77",
   "metadata": {},
   "outputs": [],
   "source": [
    "# It does not make much sense to have 10.2 characters so as expected\n",
    "# we get and cant multiply error\n",
    "ten_point_two_asterisks = 10.2 * asterisk"
   ]
  },
  {
   "cell_type": "code",
   "execution_count": null,
   "id": "aa2f7eb9",
   "metadata": {},
   "outputs": [],
   "source": [
    "# We can also convert between types using their respective conversion\n",
    "# functions\n",
    "\n",
    "num = 15 \n",
    "print(type(num)) # Integer as expected"
   ]
  },
  {
   "cell_type": "code",
   "execution_count": null,
   "id": "d4d485f2",
   "metadata": {},
   "outputs": [],
   "source": [
    "# Here we convert num to a float and save it to converted\n",
    "converted = float(num)\n",
    "print(converted, type(converted))"
   ]
  },
  {
   "cell_type": "code",
   "execution_count": null,
   "id": "a81eed5f",
   "metadata": {},
   "outputs": [],
   "source": [
    "int_str = str(num)\n",
    "float_str = str(converted)\n",
    "print(int_str, type(int_str), float_str, type(float_str))"
   ]
  },
  {
   "cell_type": "markdown",
   "id": "d9927f6d",
   "metadata": {},
   "source": [
    "### Exercise 4: Create a variable of 33 '@' and a variable of 12 '!' create a variable called ascci_A = 65 use the chr() function to convert this variable to a string. Add all 3 strings together and output it."
   ]
  },
  {
   "cell_type": "code",
   "execution_count": null,
   "id": "4de924ee",
   "metadata": {},
   "outputs": [],
   "source": []
  },
  {
   "cell_type": "markdown",
   "id": "8ee8a938",
   "metadata": {},
   "source": [
    "# For loops"
   ]
  },
  {
   "cell_type": "code",
   "execution_count": null,
   "id": "96e644c7",
   "metadata": {},
   "outputs": [],
   "source": [
    "# We can use loops to repeate repetitive tasks. Here is the main syntax\n",
    "# Say for example we want to add up all the numbers to 99.\n",
    "\n",
    "# The range iterator is used to iterate from a start to an end given\n",
    "# a step range(start, stop, step)\n",
    "\n",
    "counter = 0\n",
    "for i in range(0, 100, 1): # ranges starts at 0 goes to 99 every 1  \n",
    "# i is a variable that saves the range value for that iteration\n",
    "    counter = counter + i  # Here we add i to what our counter\n",
    "print(counter)"
   ]
  },
  {
   "cell_type": "code",
   "execution_count": null,
   "id": "fb3122fa",
   "metadata": {},
   "outputs": [],
   "source": [
    "# We can simplify the notation since the loop we usually want to start\n",
    "# at 0 and takes steps of 1 that is the default value so we can omit them\n",
    "counter = 0\n",
    "for i in range(100):  \n",
    "    counter += i  # We use the += operator that adds to the existing value\n",
    "print(counter)"
   ]
  },
  {
   "cell_type": "code",
   "execution_count": null,
   "id": "e72703cb",
   "metadata": {},
   "outputs": [],
   "source": [
    "# We can verify we are correct using the formula by gauss that says\n",
    "# that the sum of the first n integers is n * (n+1)/ 2\n",
    "\n",
    "gauss_sum = 99 * (99 + 1) // 2\n",
    "print(gauss_sum)"
   ]
  },
  {
   "cell_type": "markdown",
   "id": "8c331883",
   "metadata": {},
   "source": [
    "### Exercise 5: Write a for loop that adds up the first 200 even numbers and print it to the screen (Hint: think of the step)"
   ]
  },
  {
   "cell_type": "code",
   "execution_count": null,
   "id": "3c46e061",
   "metadata": {},
   "outputs": [],
   "source": []
  },
  {
   "cell_type": "markdown",
   "id": "89380f80",
   "metadata": {},
   "source": [
    "### Exercise 6: Write a for loop that outputs a right triangle made up of asterisks were the base is 10 asterisks. (Hint: print inside the loop)"
   ]
  },
  {
   "cell_type": "code",
   "execution_count": null,
   "id": "35659d15",
   "metadata": {},
   "outputs": [],
   "source": []
  },
  {
   "cell_type": "markdown",
   "id": "5169ccab",
   "metadata": {},
   "source": [
    "# Data Structures"
   ]
  },
  {
   "cell_type": "markdown",
   "id": "46956f0c",
   "metadata": {},
   "source": [
    "# There are many data structures here we are going to focus on 2\n",
    "\n",
    "* lists\n",
    "* arrays (numpy)"
   ]
  },
  {
   "cell_type": "code",
   "execution_count": null,
   "id": "0475825b",
   "metadata": {},
   "outputs": [],
   "source": [
    "# In python we define a list using square brackets [] separating\n",
    "# the elements with a comma.\n",
    "\n",
    "animals = ['lion', 'dog', 'cat', 'rat'] # list of 4 strings\n",
    "print(animals)"
   ]
  },
  {
   "cell_type": "code",
   "execution_count": null,
   "id": "1dbbd63a",
   "metadata": {},
   "outputs": [],
   "source": [
    "new_animals = ['pig', 'horse'] # list of 2 strings\n",
    "# We can use some operators between lists\n",
    "all_animals = animals + new_animals\n",
    "print(all_animals)"
   ]
  },
  {
   "cell_type": "code",
   "execution_count": null,
   "id": "aa9109f2",
   "metadata": {},
   "outputs": [],
   "source": [
    "one_dollar = ['$1'] # list with 1 string\n",
    "fifty_dollars = 50 * one_dollar # list with 50 strings\n",
    "print(fifty_dollars)"
   ]
  },
  {
   "cell_type": "code",
   "execution_count": null,
   "id": "1eb09a67",
   "metadata": {},
   "outputs": [],
   "source": [
    "# A list is special because it can have mixed data types\n",
    "miscellaneous = ['Helen', 28, 77.8]\n",
    "print(miscellaneous)\n",
    "# We can iterate over the elements of a list with a for\n",
    "for element in miscellaneous:\n",
    "    print(type(element))\n",
    "# As we can see we have strings, integers and floats in our list"
   ]
  },
  {
   "cell_type": "code",
   "execution_count": null,
   "id": "511900a1",
   "metadata": {},
   "outputs": [],
   "source": [
    "# We can fill lists using the .append()\n",
    "evens = [] # Define an empty list\n",
    "for num in range(2, 102, 2):\n",
    "    evens.append(num) # appends num to the list\n",
    "print(evens)"
   ]
  },
  {
   "cell_type": "code",
   "execution_count": null,
   "id": "5f40c9b6",
   "metadata": {},
   "outputs": [],
   "source": [
    "# We can get the length of a list with the len() function\n",
    "print(len(evens))"
   ]
  },
  {
   "cell_type": "code",
   "execution_count": null,
   "id": "55edcdcd",
   "metadata": {},
   "outputs": [],
   "source": [
    "# We can access elements of a list by index or a list of indeces\n",
    "print(evens[0]) # gives us the element 0 or first element\n",
    "print(evens[1]) # gives us the element 1 or second element\n",
    "print(evens[-1]) # gives us the last element\n",
    "print(evens[-2]) # gives us the second to last"
   ]
  },
  {
   "cell_type": "code",
   "execution_count": null,
   "id": "3438934d",
   "metadata": {},
   "outputs": [],
   "source": [
    "# We can also get slices of the list\n",
    "print(evens[0:10]) # gives us element 0 to 9\n",
    "print(evens[-10:-1]) # gives us the last 10 elements\n",
    "# We can invert a list also\n",
    "print(evens[::-1])"
   ]
  },
  {
   "cell_type": "code",
   "execution_count": null,
   "id": "664964cd",
   "metadata": {},
   "outputs": [],
   "source": [
    "# we can use the len of the list to iterate over the elements\n",
    "for i in range(len(evens)):\n",
    "    # We can also access elements of a list by index inside the for\n",
    "    print('Index: ', i,' Even: ', evens[i])"
   ]
  },
  {
   "cell_type": "markdown",
   "id": "c4a6229f",
   "metadata": {},
   "source": [
    "### Exercise 7: Create a list of odd numbers from 1 to 100. Create a list of 25 'Jake' and 25 'Joe'. Check that the length of both lists is the same. Iterate over both lists and print the name and the number."
   ]
  },
  {
   "cell_type": "code",
   "execution_count": null,
   "id": "e26893e2",
   "metadata": {},
   "outputs": [],
   "source": []
  },
  {
   "cell_type": "code",
   "execution_count": null,
   "id": "626df872",
   "metadata": {},
   "outputs": [],
   "source": [
    "# Numpy arrays are structures that only hold one data type and the size\n",
    "# of it needs to be known. Even though list are more flexible numpy\n",
    "# arrays are much faster for numeric work.\n",
    "\n",
    "# For this to work we need to import the numpy library.\n",
    "# Libraries are usually installed using the pip command in the terminal\n",
    "# Once intalled we can import as follows\n",
    "import numpy as np # Here we give the name of np to numpy so it is faster to type\n",
    "\n",
    "\n",
    "# This are different ways to initialize a numpy array\n",
    "\n",
    "array_of_zeros = np.zeros(10, dtype = int) # array of 10 integer zeros\n",
    "array_of_ones = np.ones(10, dtype = int) # array of 10 integer ones\n",
    "\n",
    "print(array_of_zeros)\n",
    "print(array_of_ones)"
   ]
  },
  {
   "cell_type": "code",
   "execution_count": null,
   "id": "9fa97bd3",
   "metadata": {},
   "outputs": [],
   "source": [
    "# We can also use the array() function to convert a list to an array\n",
    "\n",
    "array_evens_int = np.array(evens) # The type is determined automatically\n",
    "print(array_evens_int)\n",
    "\n",
    "array_evens_float = np.array(evens, dtype = float) # We can also change the type if needed\n",
    "print(array_evens_float)"
   ]
  },
  {
   "cell_type": "code",
   "execution_count": null,
   "id": "d53f0b24",
   "metadata": {},
   "outputs": [],
   "source": [
    "array_names = np.array(names)\n",
    "print(array_names)"
   ]
  },
  {
   "cell_type": "code",
   "execution_count": null,
   "id": "8a91d810",
   "metadata": {},
   "outputs": [],
   "source": [
    "# As mentioned before we can only have one data type\n",
    "array_miscellaneous = np.array(miscellaneous)\n",
    "print(array_miscellaneous) # It automatically changed the type of the\n",
    "# numbers to the type of the first element strings."
   ]
  },
  {
   "cell_type": "code",
   "execution_count": null,
   "id": "cd5ca40e",
   "metadata": {},
   "outputs": [],
   "source": [
    "# If we try to force it as integers it fails as Helen cant be converted\n",
    "array_miscellaneous = np.array(miscellaneous, dtype = int)"
   ]
  },
  {
   "cell_type": "code",
   "execution_count": null,
   "id": "61313a5a",
   "metadata": {},
   "outputs": [],
   "source": [
    "# Some of the benefits of numpy arrays\n",
    "numbers = [1,2,3,4,5,6]\n",
    "numbers_plus_two = numbers + 2 # This operation is not defined for lists"
   ]
  },
  {
   "cell_type": "code",
   "execution_count": null,
   "id": "f5d4f062",
   "metadata": {},
   "outputs": [],
   "source": [
    "# To add a two to every element we need a for loop\n",
    "numbers_plus_two = []\n",
    "for i in range(len(numbers)):\n",
    "    numbers_plus_two.append(numbers[i] + 2)\n",
    "print(numbers_plus_two)"
   ]
  },
  {
   "cell_type": "code",
   "execution_count": null,
   "id": "23fd906e",
   "metadata": {},
   "outputs": [],
   "source": [
    "# For loops are usually very slow in python we can do better with numpy\n",
    "numbers_np = np.array([1,2,3,4,5,6])\n",
    "numbers_plus_two_np = numbers_np + 2 # This operations works and is faster\n",
    "print(numbers_plus_two_np)"
   ]
  },
  {
   "cell_type": "code",
   "execution_count": null,
   "id": "e899a173",
   "metadata": {},
   "outputs": [],
   "source": [
    "# We can also multiply, divide, subtract, elevate to a power\n",
    "print(numbers_np ** 2)\n",
    "print(numbers_np / 2)\n",
    "print(numbers_np - 1)\n",
    "print(numbers_np * 10)"
   ]
  },
  {
   "cell_type": "code",
   "execution_count": null,
   "id": "50f2bf12",
   "metadata": {},
   "outputs": [],
   "source": [
    "# We can also turn a numpy array into a list\n",
    "np_array_list = list(np.arange(1, 100, 1)) # np.arange is similar to range()\n",
    "print(np_array_list, type(np_array_list)) # As we can see is type list"
   ]
  },
  {
   "cell_type": "code",
   "execution_count": null,
   "id": "3a24ba05",
   "metadata": {},
   "outputs": [],
   "source": [
    "# Another way of doing this without numpy is\n",
    "list_nums = list(range(1,100,1)) # We need to convert the iterator to a list\n",
    "print(list_nums)\n",
    "\n",
    "# Another way of doing this\n",
    "list_nums = [*range(1,100,1)] # The * operator in this case is used to unpack the iterator\n",
    "print(list_nums)"
   ]
  },
  {
   "cell_type": "markdown",
   "id": "be5d4e20",
   "metadata": {},
   "source": [
    "### Exercise 8: Create a list of numbers from 0 to 49 and a list from 50 to 99. Add the elements from each list elementwise to a temporary list. Output this list and then add the all the elements of the temporary list and print the final sum. Do the same using numpy arrays (Hint: read about the np.sum function for the last part)."
   ]
  },
  {
   "cell_type": "code",
   "execution_count": null,
   "id": "d204f415",
   "metadata": {},
   "outputs": [],
   "source": [
    "# Arrays and list can also be multidimensional for example\n",
    "# Let say we have vectors with components [x, y, z] this can be \n",
    "# regarded as a list of 3 elements or an array of 3 elements.\n",
    "# But now consider we have many vectors. For example a protein with\n",
    "# 1000 atoms each with a vector that denotes its position.\n",
    "\n",
    "# We can specify any set of dimensions with parenthesis and separated by\n",
    "# a comma when we define our array\n",
    "\n",
    "positions = np.zeros((1000, 3)) # In this case we have a multidimensional array\n",
    "\n",
    "# We have set it to 1000 rows and each row has 3 columns\n",
    "# We can access the this information with the np.shape() function\n",
    "print(np.shape(positions))\n",
    "\n",
    "# Right now our array is not that interesting as it is full of zeros\n",
    "print(positions)"
   ]
  },
  {
   "cell_type": "code",
   "execution_count": null,
   "id": "c6a235b3",
   "metadata": {},
   "outputs": [],
   "source": [
    "# Since we are now working with a 2d array we need to indeces to access\n",
    "# our values for example lets make the element of the first row and\n",
    "# the first column equal to 1\n",
    "\n",
    "positions[0][0] = 1\n",
    "print(positions)"
   ]
  },
  {
   "cell_type": "code",
   "execution_count": null,
   "id": "0128bf62",
   "metadata": {},
   "outputs": [],
   "source": [
    "# Lets see how we can access all the values of this 2d array\n",
    "# First we can use np.shape to save the dimensions of the array\n",
    "# We can assign more than one variable in one line as long as we have\n",
    "# enough elements. Here we know shape returns 2 values so we assign them\n",
    "# to 2 variables\n",
    "rows, cols = np.shape(positions)\n",
    "for i in range(rows): # we first go over every row\n",
    "    for j in range(cols): # then for a given row we go over every column\n",
    "        positions[i][j] = np.random.random()# Here we need 2 indeces one for the row and one for the column\n",
    "# Here np.random.random returns a random value between 0 and 1"
   ]
  },
  {
   "cell_type": "code",
   "execution_count": null,
   "id": "f439b330",
   "metadata": {},
   "outputs": [],
   "source": [
    "print(positions)"
   ]
  },
  {
   "cell_type": "code",
   "execution_count": null,
   "id": "ed0822bd",
   "metadata": {},
   "outputs": [],
   "source": [
    "# Now that we learn how to access 2d array elements in the case of\n",
    "# generating random arrays there is an easier way\n",
    "# Here we generate random numbers between 0 and 1 for a given shape\n",
    "random_positions = np.random.rand(1000,3)\n",
    "print(random_positions)"
   ]
  },
  {
   "cell_type": "markdown",
   "id": "f0f3db97",
   "metadata": {},
   "source": [
    "# Conditionals"
   ]
  },
  {
   "cell_type": "markdown",
   "id": "030a01a3",
   "metadata": {},
   "source": [
    "This are logical operations that we can add to our program to make decisions based on certain conditions."
   ]
  },
  {
   "cell_type": "code",
   "execution_count": null,
   "id": "ac64f197",
   "metadata": {},
   "outputs": [],
   "source": [
    "# Lets first introduce another very simple data type a bool or boolean\n",
    "# this a data type that takes only two values either True or False\n",
    "\n",
    "true_bool = True\n",
    "false_bool = False\n",
    "\n",
    "# We can perform some operations between booleans\n",
    "\n",
    "# When we do the arithmetic operations True takes the value of 1 and False a value of 0\n",
    "print(true_bool + false_bool)\n",
    "print(true_bool * false_bool)\n",
    "print(true_bool - false_bool)"
   ]
  },
  {
   "cell_type": "code",
   "execution_count": null,
   "id": "5032faaa",
   "metadata": {},
   "outputs": [],
   "source": [
    "# For bool types we also have the logic operators\n",
    "print(true_bool and false_bool) # Needs both to be True to be True\n",
    "print(true_bool or false_bool)  # Only needs one True to be True\n",
    "# We can also negate the expressions with the not\n",
    "print(not true_bool)"
   ]
  },
  {
   "cell_type": "code",
   "execution_count": null,
   "id": "18254cd0",
   "metadata": {},
   "outputs": [],
   "source": [
    "# We can also use comparisons to create booleans\n",
    "# The == compare gives True if the values on both sides are equal\n",
    "exp_bool = 5 == 6 # is 5 equal to 6 -> False\n",
    "print(exp_bool)\n",
    "# The != compare gives True if the values on both sides are different\n",
    "exp_bool = 5 != 6  # is 5 different than 6 -> True \n",
    "print(exp_bool)\n",
    "exp_bool = 5 > 6  # is 5 greater than 6 -> False \n",
    "print(exp_bool)\n",
    "exp_bool = 5 < 6  # is 5 smaller than 6 -> True \n",
    "print(exp_bool)\n",
    "# To this last two we can the = sign to modify them to greater than\n",
    "# or equal to (>=) or less than or equal to (<=) "
   ]
  },
  {
   "cell_type": "code",
   "execution_count": null,
   "id": "6b6ace6b",
   "metadata": {},
   "outputs": [],
   "source": [
    "# We can combine what we learn from the logical operators with the\n",
    "# comparisons\n",
    "\n",
    "bool_long = 8 > 6 and 7 == 6 # Left is true but right is false so false\n",
    "print(bool_long)\n",
    "bool_long = 10 > -5 and 7 >= 7 # Both true so true\n",
    "print(bool_long)"
   ]
  },
  {
   "cell_type": "code",
   "execution_count": null,
   "id": "0b96e3b9",
   "metadata": {},
   "outputs": [],
   "source": [
    "# Now the final part is to add conditionals to this statements\n",
    "\n",
    "c = 20\n",
    "\n",
    "# This is an if-else statement if our expression is true we go inside\n",
    "# otherwise we go inside the else\n",
    "\n",
    "if c >= 0:\n",
    "    print('Positive number')\n",
    "else:\n",
    "    print('Negative number')"
   ]
  },
  {
   "cell_type": "code",
   "execution_count": null,
   "id": "253bfde7",
   "metadata": {},
   "outputs": [],
   "source": [
    "# We can also have more than one condition. We want to know if a number\n",
    "# is a multiple of 2 but also if it is a multiple of 3\n",
    "\n",
    "nums = np.arange(1, 21) # list of number 1-20\n",
    "for num in nums: # for loop over the list\n",
    "    if num % 2 == 0: # if the number is multiple of 2\n",
    "        print(\"Multiple of 2: \", num)\n",
    "    elif num % 3 == 0: # if number is multiple of 3\n",
    "        print(\"Multiple of 3: \", num)\n",
    "    else:\n",
    "        print(\"Badluck: \", num)\n",
    "        \n",
    "# There is a bug when a number is multiple of both 2 and 3 it only shows\n",
    "# as a multiple of 2 since it is the first if. Try modyfing it to also\n",
    "# consider this situation"
   ]
  },
  {
   "cell_type": "code",
   "execution_count": null,
   "id": "37e2b779",
   "metadata": {},
   "outputs": [],
   "source": []
  },
  {
   "cell_type": "code",
   "execution_count": null,
   "id": "373c6f32",
   "metadata": {},
   "outputs": [],
   "source": [
    "# We can also have nested conditionals. For example we want the names\n",
    "# than have more than 4 letters and start with either T or P.\n",
    "names = ['Peter', 'Matt', 'Taylor', 'Nate', 'Sydney']\n",
    "\n",
    "for name in names:\n",
    "    if len(name) > 4: # We can use the len() function with strings since they are a list of characters\n",
    "        if name[0] == 'T' or name[0] == 'P': # For the same reason we can index a string to get the first letter\n",
    "            print('This name is valid: ', name)\n",
    "        else:\n",
    "            print('Invalid name: ', name)\n",
    "    else:\n",
    "        print('Invalid name: ', name)"
   ]
  },
  {
   "cell_type": "markdown",
   "id": "f47601d8",
   "metadata": {},
   "source": [
    "### Exercise 9: Given the following DNA sequence. Find the GC content. In other words find how many times either of these pairs occurs and divide by the total. Also find the number of start codons ATG and end codons TAA, TAG and TGA"
   ]
  },
  {
   "cell_type": "code",
   "execution_count": null,
   "id": "6ac4fcea",
   "metadata": {},
   "outputs": [],
   "source": [
    "# Ignore the backslashes they are used when a string is very long\n",
    "\n",
    "DNA_seq = '\\\n",
    "CCGAGGGCACAATCCTATTCCCATTTGTATG\\\n",
    "TTCAGCTATCTTCTACCCATCCCCGGAAGTT\\\n",
    "AAGTAGGTCGTGAGATGCCGAGGAGGCTCTC\\\n",
    "GTTCATCCCGTGGGACATCAAGCTTCCCCTT\\\n",
    "GATAAAGCACCCCGCTCGGGTATGGCAGAGA\\\n",
    "GGACGCCTTCTGAATTGTGCTATCCCTCGAC\\\n",
    "CTTATCAAAGCTTGCTACCAATAATTAGGAT\\\n",
    "TATTGCCTTGCGACAGACCTCCTACTCAGAC\\\n",
    "TGCCTCACATTGAGCTAGTCAGTGAGCGATA\\\n",
    "AGCTTGACCCGCTTTCTAGGGTCGCGAGTAC\\\n",
    "GTGAACTAGGGCTCCGGACAGGGCTATATAC\\\n",
    "TCGAGTTTGATCTCGCCCCGACAACTGCAAA\\\n",
    "CCTCAACTTTTTTAGATAATATGGTTAGCCG\\\n",
    "AAGTTGCACGAGGTGCCGTCCGCGGACTGCT\\\n",
    "CCCCGGGTGTGGCTCCTTCATCTGACAACGT\\\n",
    "GCAACCCCTATCGCCATCGATTGTTTCTGCG\\\n",
    "GACGGTGTTGTCCTCATAGTTTGGGCATGTT\\\n",
    "TCCCTTGTAGGTGTGAAACCACTTAGCTTCG\\\n",
    "CGCCGTAGTCCTAAAGGAAAACCTATGGACT\\\n",
    "TTGTTTCGGGTAGCACCAGGAATCTGAACCA\\\n",
    "TGTGAATGTGGACGTGGCGCGCGTACACCTT\\\n",
    "AATCTCCGGTTCATGCTAGGGATGTGGCTGC\\\n",
    "ATGCTACGTTGACACACCTACACTGCTCGAA\\\n",
    "GTAAATATACGAAGCGCGCGGCCTGGCCGGA\\\n",
    "GCCGTTCCGCATCGTCACGTGTTCGTTTACT\\\n",
    "GTTAATTGGTGGCACATAAGCAATATCGTAG\\\n",
    "TCCGTCAAATTCAGCCCTGTTATCCCCGGCG\\\n",
    "TTATGTGTCAAATGGCGTAGAACTGGATTGA\\\n",
    "CTGTTTGACGGTACCTGCTGATCGGTACGGT\\\n",
    "GACCGAGAATCTGTCGGGCTATGTCACTAAT\\\n",
    "ACTTTCCAAACGCCCCGTATCGATGCTGAAC\\\n",
    "GAATCGATGCACGCTCCCGTCTTTGAAAACG\\\n",
    "CATAAACA'\n",
    "\n",
    "print(DNA_seq)"
   ]
  },
  {
   "cell_type": "code",
   "execution_count": null,
   "id": "7db428ca",
   "metadata": {},
   "outputs": [],
   "source": []
  },
  {
   "cell_type": "markdown",
   "id": "80da9d17",
   "metadata": {},
   "source": [
    "# Functions"
   ]
  },
  {
   "cell_type": "markdown",
   "id": "6ea3cfaf",
   "metadata": {},
   "source": [
    "We have been using functions all along but lets see how we can create one"
   ]
  },
  {
   "cell_type": "code",
   "execution_count": null,
   "id": "098511aa",
   "metadata": {},
   "outputs": [],
   "source": [
    "# All we need to do is use def to define a function\n",
    "# This is a function with 0 arguments \n",
    "def print_10_times():\n",
    "    for i in range(10):\n",
    "        print('Print Hello')\n",
    "    return # Notice our function does not return anything but it prints inside the loop\n",
    "# Nothing will execute but our function is created\n",
    "print(type(print_10_times))"
   ]
  },
  {
   "cell_type": "code",
   "execution_count": null,
   "id": "f2eb2f07",
   "metadata": {},
   "outputs": [],
   "source": [
    "# we can call our function\n",
    "print_10_times() # Remember the parenthesis at the end"
   ]
  },
  {
   "cell_type": "code",
   "execution_count": null,
   "id": "2d32eefb",
   "metadata": {},
   "outputs": [],
   "source": [
    "# Lets create a function that count the number of characters in a\n",
    "# string\n",
    "\n",
    "def my_len(word): # our function has one argument\n",
    "    count = 0\n",
    "    for char in word:\n",
    "        count += 1\n",
    "    return count # This is how we can return an output"
   ]
  },
  {
   "cell_type": "code",
   "execution_count": null,
   "id": "7a1c1fbc",
   "metadata": {},
   "outputs": [],
   "source": [
    "test_str = \"Peter\"\n",
    "result = my_len(test_str) # We save the output of the function into result\n",
    "print(result)"
   ]
  },
  {
   "cell_type": "code",
   "execution_count": null,
   "id": "b2ce33ac",
   "metadata": {},
   "outputs": [],
   "source": [
    "# We can compare this agaisnt the len() function\n",
    "print(my_len(test_str) == len(test_str))"
   ]
  },
  {
   "cell_type": "code",
   "execution_count": null,
   "id": "00d6a313",
   "metadata": {},
   "outputs": [],
   "source": [
    "# Lets write a function to calculate the area of a circle and its circunference\n",
    "# We require to know the radius of the circle therefore we need it as\n",
    "# an argument\n",
    "def circle(radius):\n",
    "    area = np.pi * radius ** 2 # We use the Pi value saved in numpy\n",
    "    perimeter = 2 * np.pi * radius \n",
    "    return area, perimeter # We can return both values using a comma"
   ]
  },
  {
   "cell_type": "code",
   "execution_count": null,
   "id": "d0f69255",
   "metadata": {},
   "outputs": [],
   "source": [
    "area_4, perimeter_4 = circle(4)\n",
    "print(area_4, perimeter_4)\n",
    "area_10, perimeter_10 = circle(10)\n",
    "print(area_10, perimeter_10)"
   ]
  },
  {
   "cell_type": "code",
   "execution_count": null,
   "id": "2a931dfe",
   "metadata": {},
   "outputs": [],
   "source": [
    "# Lets create a function to calculate the weighted average of a set of\n",
    "# grades for a given school and return the letter grade of the student\n",
    "# and its name. We will also intoduce a small information to tell what \n",
    "# our function does know as a docstring\n",
    "\n",
    "# We are assuming students is a list of strings\n",
    "# grades is a 2d array with 4 grades per student\n",
    "# Weight is also a 2d array with the weight for each assignment\n",
    "\n",
    "def get_grades(students, grades, weights):\n",
    "    '''\n",
    "    Calculates the final grade of the students by using a weighted average\n",
    "    '''\n",
    "    for i, student in enumerate(students): # Enumerate is used to get the element of the list as well as an index\n",
    "        total_weight = 0.0\n",
    "        weighted_sum = 0.0\n",
    "        for grade, weight  in zip(grades[i], weights): # Zip is used to iterate over the pairs\n",
    "            weighted_sum += grade * weight\n",
    "            total_weight += weight\n",
    "            \n",
    "        final = round(weighted_sum / total_weight, 1)\n",
    "        \n",
    "        if 90 < final <= 100:\n",
    "            print(student, 'A', final)\n",
    "        elif 80 < final <= 90:\n",
    "            print(student, 'B', final)\n",
    "        elif 60 < final <= 80:\n",
    "            print(student, 'C', final)\n",
    "        else:\n",
    "            print(student, 'F', final)\n",
    "    \n",
    "    return"
   ]
  },
  {
   "cell_type": "code",
   "execution_count": null,
   "id": "d6100e1a",
   "metadata": {},
   "outputs": [],
   "source": [
    "# Lets create our students\n",
    "names = ['Peter', 'Alice', 'Kate', 'Joe', 'James']\n",
    "# Homeworks, quizes, midterm, final \n",
    "weights = [10, 5, 30, 50]\n",
    "# Now we need to generate random data for them. Each rows corresponds\n",
    "# to a student and each column the grade for that assignment\n",
    "# We multiply by 100 because our grades are from 0 to 100 finally \n",
    "# we use round to limit our grades to one decimal\n",
    "grades = np.round(100 * np.random.rand(len(names), len(weights)), 1)\n",
    "print(grades)"
   ]
  },
  {
   "cell_type": "code",
   "execution_count": null,
   "id": "06db6267",
   "metadata": {},
   "outputs": [],
   "source": [
    "# Now lets use our function passing the 3 arguments\n",
    "get_grades(names, grades, weights)"
   ]
  },
  {
   "cell_type": "markdown",
   "id": "64de3199",
   "metadata": {},
   "source": [
    "### Exercise 10: The following function reads a protein data bank file and saves the positions of the atoms to an array as well as the element of each atom to another array. Write another function that uses this helper function to calculate the center of mass of the backbone of ubiquitin found in the data folder."
   ]
  },
  {
   "cell_type": "code",
   "execution_count": null,
   "id": "f26d5d0d",
   "metadata": {},
   "outputs": [],
   "source": [
    "def read_pdb(file_name):\n",
    "    '''\n",
    "    Function that reads a pdb file. This function is not general\n",
    "    and can fail in many cases for complicated pdbs\n",
    "    '''\n",
    "    with open(file_name, 'r') as f:\n",
    "        positions = []\n",
    "        atom_type = []\n",
    "        for line in f:\n",
    "            data = line.split()\n",
    "            positions.append(data[6:9])\n",
    "            atom_type.append(data[2])\n",
    "    return np.array(positions, dtype = float), np.array(atom_type)"
   ]
  },
  {
   "cell_type": "markdown",
   "id": "ad27ec55",
   "metadata": {},
   "source": [
    "Formula for the center of mass\n",
    "$$\n",
    "CoM = \\frac{\\sum_i \\vec{r}_i m_i}{\\sum_i m_i} \n",
    "$$"
   ]
  },
  {
   "cell_type": "code",
   "execution_count": null,
   "id": "c181a653",
   "metadata": {},
   "outputs": [],
   "source": []
  }
 ],
 "metadata": {
  "kernelspec": {
   "display_name": "Python 3 (ipykernel)",
   "language": "python",
   "name": "python3"
  },
  "language_info": {
   "codemirror_mode": {
    "name": "ipython",
    "version": 3
   },
   "file_extension": ".py",
   "mimetype": "text/x-python",
   "name": "python",
   "nbconvert_exporter": "python",
   "pygments_lexer": "ipython3",
   "version": "3.9.5"
  }
 },
 "nbformat": 4,
 "nbformat_minor": 5
}
