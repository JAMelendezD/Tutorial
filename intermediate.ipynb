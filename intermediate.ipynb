{
 "cells": [
  {
   "cell_type": "markdown",
   "id": "f630a47b",
   "metadata": {},
   "source": [
    "# I/O (input / output)"
   ]
  },
  {
   "cell_type": "markdown",
   "id": "aeb253e6",
   "metadata": {},
   "source": [
    "Here we are going to introduce some basics ways of reading and writing\n",
    "files. This is useful when we require some large input for our program\n",
    "or when we want to save result of our calculations to a place in the disk."
   ]
  },
  {
   "cell_type": "code",
   "execution_count": 1,
   "id": "c6f59e10",
   "metadata": {},
   "outputs": [
    {
     "name": "stdout",
     "output_type": "stream",
     "text": [
      "<_io.TextIOWrapper name='temporary_file.txt' mode='w' encoding='UTF-8'>\n"
     ]
    }
   ],
   "source": [
    "# we can open a file in python with the open() function and passing\n",
    "# the file name as a string as the first arguments. We also in many\n",
    "# cases need to specify the mode we want to open the file for now we\n",
    "# will only focus on read, write and append. But you are free to\n",
    "# read about the others.\n",
    "\n",
    "# We create a new file called temporary_file.txt and specify\n",
    "# we want to write to it.\n",
    "new_file = open('temporary_file.txt', 'w')\n",
    "print(new_file) # files have their own type (object) the _io.TextIOWrapper"
   ]
  },
  {
   "cell_type": "code",
   "execution_count": 2,
   "id": "97163474",
   "metadata": {},
   "outputs": [
    {
     "ename": "SyntaxError",
     "evalue": "invalid syntax (1714399965.py, line 8)",
     "output_type": "error",
     "traceback": [
      "\u001b[0;36m  Input \u001b[0;32mIn [2]\u001b[0;36m\u001b[0m\n\u001b[0;31m    new_file.\u001b[0m\n\u001b[0m             ^\u001b[0m\n\u001b[0;31mSyntaxError\u001b[0m\u001b[0;31m:\u001b[0m invalid syntax\n"
     ]
    }
   ],
   "source": [
    "# More correctly our variable is in fact an object or an instance of\n",
    "# a class which we will not go into details at the moment however\n",
    "# by we can see the possible functions related to this object by\n",
    "# typing the object name followed by a dot and then pressing tab\n",
    "# try this below\n",
    "\n",
    "# press tab after the dot\n",
    "new_file."
   ]
  },
  {
   "cell_type": "code",
   "execution_count": null,
   "id": "becb22ff",
   "metadata": {},
   "outputs": [],
   "source": [
    "# One posibility is the write method lets try it\n",
    "\n",
    "write_this = \"I am writing to a file\\n\" # the \\n is used to create a new line\n",
    "new_file.write(write_this)\n",
    "\n",
    "# if you check the file you will see that the is nothing written to it\n",
    "# for efficiency reasons when writing to a file the data is stored in a\n",
    "# buffer when the buffer limit is reached then it writes everything in\n",
    "# the buffer to the file"
   ]
  },
  {
   "cell_type": "code",
   "execution_count": null,
   "id": "6e9ca514",
   "metadata": {},
   "outputs": [],
   "source": [
    "# we can force it to write by flushing the buffer\n",
    "new_file.flush()\n",
    "# If we inspect the file we will now see that our line has been written.\n",
    "# The buffer size can be modified when creating the file."
   ]
  },
  {
   "cell_type": "code",
   "execution_count": null,
   "id": "82bd6aa5",
   "metadata": {},
   "outputs": [],
   "source": [
    "# Finally lets close our file since we are done writting to it\n",
    "# Closing the file also flushes the buffer automatically\n",
    "new_file.close()"
   ]
  },
  {
   "cell_type": "code",
   "execution_count": null,
   "id": "8200f0bb",
   "metadata": {},
   "outputs": [],
   "source": [
    "new_file.write(write_this) # As you can see we can no longer write to it"
   ]
  },
  {
   "cell_type": "code",
   "execution_count": null,
   "id": "67d94289",
   "metadata": {},
   "outputs": [],
   "source": [
    "# Alright lets put everything together\n",
    "log_file = open('temporary_file.txt', 'w')\n",
    "for i in range(101):\n",
    "    log_file.write(str(i) + '\\n')\n",
    "log_file.close()\n",
    "\n",
    "# We have written numbers from 0 to 100 to a file each on a separate line\n",
    "# As you can I named this file the same as out previous example, however,\n",
    "# the line we had before \"I am writing to this file\" disappeared. This\n",
    "# is because the 'w' mode or writing mode replaces any file with this\n",
    "# name when it creates it."
   ]
  },
  {
   "cell_type": "code",
   "execution_count": null,
   "id": "056285f2",
   "metadata": {},
   "outputs": [],
   "source": [
    "# But lets say we wrote to file at some point in our program we closed it\n",
    "# and we know want to write to it again without losing our previous data\n",
    "# the way to do this is with the 'a' mode or append.\n",
    "\n",
    "# We have the same code as before but now I am opening and closing\n",
    "# the file within the loop\n",
    "\n",
    "for i in range(101):\n",
    "    log_file = open('temporary_file.txt', 'w')\n",
    "    log_file.write(str(i) + '\\n')\n",
    "    log_file.close()\n",
    "    \n",
    "# As expected we only get the last number in our file"
   ]
  },
  {
   "cell_type": "code",
   "execution_count": null,
   "id": "d5bc9f53",
   "metadata": {},
   "outputs": [],
   "source": [
    "# We have now change the mode from 'w' to 'a'\n",
    "\n",
    "for i in range(101):\n",
    "    log_file = open('temporary_file.txt', 'a')\n",
    "    log_file.write(str(i) + '\\n')\n",
    "    log_file.close()\n",
    "\n",
    "# As you can see even though we are closing the file we are not loosing\n",
    "# what we write from before. However it is important to be careful\n",
    "# since as we can see we get the number from 0 to 100 but we also get \n",
    "# an extra 100 at the beginning that we had from the previous cell. "
   ]
  },
  {
   "cell_type": "code",
   "execution_count": null,
   "id": "eb5871c8",
   "metadata": {},
   "outputs": [],
   "source": [
    "# Lets now read the content of our file\n",
    "\n",
    "reading = open('temporary_file.txt', 'r')\n",
    "lines = reading.readlines()\n",
    "print(lines)\n",
    "\n",
    "# With the readlines() we get a list of our lines. However for large\n",
    "# files readlines() is not the best because it can fill up our memory\n",
    "# in many cases is better to read line by line"
   ]
  },
  {
   "cell_type": "code",
   "execution_count": null,
   "id": "a548d174",
   "metadata": {},
   "outputs": [],
   "source": [
    "# We can also read and write to files using the with keyword\n",
    "\n",
    "lines = []\n",
    "with open('temporary_file.txt', 'r') as f:\n",
    "    for line in f:\n",
    "        lines.append(line)\n",
    "print(lines)\n",
    "\n",
    "# Here we are accomplishing the same as before however the benefit is \n",
    "# that we can treat our file in chunks and do not worry about the memory."
   ]
  },
  {
   "cell_type": "code",
   "execution_count": null,
   "id": "7d7bde14",
   "metadata": {},
   "outputs": [],
   "source": [
    "# Since we are reading line by line we can also perform actions to each\n",
    "# line for example the data we are getting is not completly useful as it\n",
    "# is one long string and has the '\\n' and we also lost our integer type\n",
    "# since the number are now strings\n",
    "\n",
    "# So lets do some operations to treat the data\n",
    "\n",
    "lines = []\n",
    "with open('temporary_file.txt', 'r') as f:\n",
    "    for line in f:\n",
    "        # The split method is very important when reading a file\n",
    "        # specially when we have more than one column as it\n",
    "        # creates a list of values separated by whitespace\n",
    "        data = line.split()  \n",
    "        lines.append(int(data[0])) # We take the only element in the list and convert back to int\n",
    "print(lines)\n"
   ]
  },
  {
   "cell_type": "code",
   "execution_count": null,
   "id": "1ad717af",
   "metadata": {},
   "outputs": [],
   "source": [
    "# With the with keyword the file gets also closed automatically. Let\n",
    "# see an example of writing to a file\n",
    "\n",
    "with open('temporary_file.txt', 'w') as f:\n",
    "    for i in range(101):\n",
    "        f.write(str(i) + '\\n')"
   ]
  },
  {
   "cell_type": "markdown",
   "id": "e0a1bf79",
   "metadata": {},
   "source": [
    "### Exercise 1: Using the files inside of data called classroom_1.txt and classroom_2.txt find the average GPA of classroom 1 and classroom 2 and the average age of students with GPA above or equal to 3.8"
   ]
  },
  {
   "cell_type": "code",
   "execution_count": null,
   "id": "59d31b7d",
   "metadata": {},
   "outputs": [],
   "source": []
  },
  {
   "cell_type": "markdown",
   "id": "cbc93876",
   "metadata": {},
   "source": [
    "# String formatting"
   ]
  },
  {
   "cell_type": "code",
   "execution_count": null,
   "id": "2e5ddf50",
   "metadata": {},
   "outputs": [],
   "source": [
    "# Many files have a strict formatting this means that the fields in the\n",
    "# text file have specific lengths and other programs expect this lengths\n",
    "# when reading the file so they have to be respected how can we \n",
    "# accomplish this?\n",
    "\n",
    "# We will start with simple strings\n",
    "\n",
    "word = 'formatting'\n",
    "print(word)\n",
    "print(f'{word}') # This is how we specify a formatted string without a format\n",
    "\n",
    "# Now lets add the format\n",
    "print(f'{word:>15s}') # the 15 refers to the # of colums we assign\n",
    "# The > means that we want it right aligned\n",
    "\n",
    "print(f'{word:<15s}') # Left aligned compared to the first ones it has white spaces to the right up to 15\n",
    "print(f'{word:^15s}') # Centered"
   ]
  },
  {
   "cell_type": "code",
   "execution_count": 3,
   "id": "5d42e67f",
   "metadata": {},
   "outputs": [
    {
     "name": "stdout",
     "output_type": "stream",
     "text": [
      "Michelle Browning\n",
      "Jacob Brown\n",
      "Mary Myers\n"
     ]
    }
   ],
   "source": [
    "names = ['Michelle', 'Jacob', 'Mary']\n",
    "last_names = ['Browning', 'Brown', 'Myers']\n",
    "\n",
    "# Without formatting the last names are not aligned.\n",
    "# If we save it to a file and try to add a comma in between the name\n",
    "# and lastname it would not be as easy.\n",
    "\n",
    "# Also imagine there is a program that reads names and lastnames and it \n",
    "# expects that the names from column 1 to 20 and last names from 21 to 40\n",
    "# in our case say for the first one it would actually read:\n",
    "\n",
    "# name = 'MichelleBrowning     '\n",
    "# last_name = '                   '\n",
    "\n",
    "for i in range(len(names)):\n",
    "    print(names[i], last_names[i])"
   ]
  },
  {
   "cell_type": "code",
   "execution_count": 4,
   "id": "22278e98",
   "metadata": {},
   "outputs": [
    {
     "name": "stdout",
     "output_type": "stream",
     "text": [
      "Michelle            Browning            \n",
      "Jacob               Brown               \n",
      "Mary                Myers               \n"
     ]
    }
   ],
   "source": [
    "# Lets fix this issue by giving 20 spaces to each string\n",
    "for i in range(len(names)):\n",
    "    print(f'{names[i]:20s}{last_names[i]:20s}')"
   ]
  },
  {
   "cell_type": "code",
   "execution_count": 5,
   "id": "35ee18f6",
   "metadata": {},
   "outputs": [
    {
     "name": "stdout",
     "output_type": "stream",
     "text": [
      "         0Michelle            \n",
      "         1Jacob               \n",
      "         2Mary                \n"
     ]
    }
   ],
   "source": [
    "# We can also use string format for numeric values for integers there is\n",
    "# nothing additional to learn with just use the letter d instead of s\n",
    "# to indicate is a integer value\n",
    "\n",
    "for i in range(len(names)):\n",
    "    print(f'{i:10d}{names[i]:20s}') # by default numeric values are aligned right\n",
    "# while strings are aligned left lets modify this to look better    "
   ]
  },
  {
   "cell_type": "code",
   "execution_count": 6,
   "id": "c2c64e2b",
   "metadata": {},
   "outputs": [
    {
     "name": "stdout",
     "output_type": "stream",
     "text": [
      "         0            Michelle\n",
      "         1               Jacob\n",
      "         2                Mary\n"
     ]
    }
   ],
   "source": [
    "for i in range(len(names)):\n",
    "    print(f'{i:10d}{names[i]:>20s}')"
   ]
  },
  {
   "cell_type": "code",
   "execution_count": 7,
   "id": "f466e574",
   "metadata": {},
   "outputs": [
    {
     "name": "stdout",
     "output_type": "stream",
     "text": [
      "569189.0029673155\n",
      "876554.7416937583\n",
      "752377.5417952172\n",
      "901318.6527577641\n",
      "954867.1951160504\n",
      "86024.99579050305\n",
      "89545.52026310869\n",
      "807119.8223343416\n",
      "16968.04783722117\n",
      "766867.9729109536\n"
     ]
    }
   ],
   "source": [
    "# In the case of floats, we can also specify the number of decimal places\n",
    "# using a dot after the specified number of columns and we use an f\n",
    "import numpy as np\n",
    "\n",
    "for i in range(10):\n",
    "    rand_num = 1000000 * np.random.random()\n",
    "    print(rand_num)"
   ]
  },
  {
   "cell_type": "code",
   "execution_count": 8,
   "id": "6175727d",
   "metadata": {},
   "outputs": [
    {
     "name": "stdout",
     "output_type": "stream",
     "text": [
      "   109493.47\n",
      "   844430.50\n",
      "   585430.69\n",
      "    16878.18\n",
      "   238843.33\n",
      "   352028.82\n",
      "   356459.44\n",
      "   968897.98\n",
      "   651175.02\n",
      "   545042.19\n"
     ]
    }
   ],
   "source": [
    "for i in range(10):\n",
    "    rand_num = 1000000 * np.random.random()\n",
    "    print(f'{rand_num:12.2f}') # We are specifying it is a float of 12 colunms and 2 of them are decimal places"
   ]
  },
  {
   "cell_type": "code",
   "execution_count": 9,
   "id": "2faeef0f",
   "metadata": {},
   "outputs": [
    {
     "name": "stdout",
     "output_type": "stream",
     "text": [
      "Michelle            Browning            \n",
      "Jacob               Brown               \n",
      "Mary                Myers               \n"
     ]
    }
   ],
   "source": [
    "# Another way of formating is using the format() function\n",
    "\n",
    "# We define our particular format before\n",
    "fmt = '{:20s}{:20s}'\n",
    "for i in range(len(names)):\n",
    "    print(fmt.format(names[i], last_names[i])) # we call the format function "
   ]
  },
  {
   "cell_type": "markdown",
   "id": "75527a1f",
   "metadata": {},
   "source": [
    "### Exercise 2: The GRO file format is a type of format used by GROMACS a MD engine to specify atomic coordinates. Read about this type of file https://manual.gromacs.org/archive/5.0.3/online/gro.html. Ignoring the velocities it consists of 7 fields with differnt sizes. The idea is to exploit this file format and the 3d visualization tools such as pymol that read this formats to graph the following function "
   ]
  },
  {
   "cell_type": "code",
   "execution_count": 16,
   "id": "43268d8c",
   "metadata": {},
   "outputs": [],
   "source": [
    "def function(grid, xs, ys):\n",
    "    X, Y = np.meshgrid(xs, ys)\n",
    "    z = X ** 2 - Y ** 2\n",
    "    return z"
   ]
  },
  {
   "cell_type": "code",
   "execution_count": 19,
   "id": "6d22a26c",
   "metadata": {},
   "outputs": [],
   "source": [
    "# Hint sticking to the strict format of the gro file we want to write\n",
    "# the above coordinates in the last 3 fields. For the first 4 fields we can\n",
    "# write the following i, LIGAND, OW1, i where i is the index of our\n",
    "# x,y,z array\n",
    "\n",
    "grid = 50\n",
    "xs = 10 * np.linspace(-1, 1, grid)\n",
    "ys = 10 * np.linspace(-1, 1, grid)\n",
    "z = 0.1 * function(grid, xs, ys)\n",
    "\n",
    "out = open('test.gro', 'w')\n",
    "out.write('Title 3d Plot\\n')\n",
    "out.write(f'{grid * grid:d}\\n')\n",
    "\n",
    "form = '{:5d}{:5s}{:>5s}{:5d}{:8.3f}{:8.3f}{:8.3f}\\n'\n",
    "counter = 1\n",
    "for i in range(grid):\n",
    "    for j in range(grid):\n",
    "        out.write(form.format(counter, 'LIGAND', 'OW1', counter, xs[i], ys[grid - j - 1], z[i][j]))\n",
    "        counter += 1\n",
    "out.write(f'{100:8.3f}{100:8.3f}{100:8.3f}\\n')\n",
    "out.close()"
   ]
  },
  {
   "cell_type": "markdown",
   "id": "57372e5d",
   "metadata": {},
   "source": [
    "# More ways of looping"
   ]
  },
  {
   "cell_type": "code",
   "execution_count": 12,
   "id": "14058b8e",
   "metadata": {},
   "outputs": [],
   "source": [
    "# We have seen some ways on how to repeate an operation inside a loop\n",
    "# however "
   ]
  },
  {
   "cell_type": "code",
   "execution_count": null,
   "id": "79cb464c",
   "metadata": {},
   "outputs": [],
   "source": []
  },
  {
   "cell_type": "code",
   "execution_count": 13,
   "id": "96dae9b6",
   "metadata": {},
   "outputs": [
    {
     "ename": "SyntaxError",
     "evalue": "invalid syntax (1285490197.py, line 2)",
     "output_type": "error",
     "traceback": [
      "\u001b[0;36m  Input \u001b[0;32mIn [13]\u001b[0;36m\u001b[0m\n\u001b[0;31m    reading writing files\u001b[0m\n\u001b[0m            ^\u001b[0m\n\u001b[0;31mSyntaxError\u001b[0m\u001b[0;31m:\u001b[0m invalid syntax\n"
     ]
    }
   ],
   "source": [
    "dictionaries\n",
    "reading writing files\n",
    "string formatting\n",
    "timing functions\n",
    "different ways to loop\n",
    "\n",
    "\n",
    "\n",
    "\n",
    "write math function to pymol\n",
    "lorentz attractor\n",
    "\n",
    "counting with a dictionary\n",
    "dynamic programming collatz\n",
    "\n",
    "more advance mdanalysis (hydrogen bonds)\n",
    "\n",
    "excersice write rmsd code output to a file\n",
    "\n",
    "PCA"
   ]
  },
  {
   "cell_type": "code",
   "execution_count": null,
   "id": "f8b283f4",
   "metadata": {},
   "outputs": [],
   "source": []
  }
 ],
 "metadata": {
  "kernelspec": {
   "display_name": "Python 3 (ipykernel)",
   "language": "python",
   "name": "python3"
  },
  "language_info": {
   "codemirror_mode": {
    "name": "ipython",
    "version": 3
   },
   "file_extension": ".py",
   "mimetype": "text/x-python",
   "name": "python",
   "nbconvert_exporter": "python",
   "pygments_lexer": "ipython3",
   "version": "3.9.5"
  }
 },
 "nbformat": 4,
 "nbformat_minor": 5
}
