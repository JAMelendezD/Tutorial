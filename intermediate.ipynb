{
 "cells": [
  {
   "cell_type": "markdown",
   "id": "f630a47b",
   "metadata": {},
   "source": [
    "# I/O (input / output)"
   ]
  },
  {
   "cell_type": "markdown",
   "id": "aeb253e6",
   "metadata": {},
   "source": [
    "Here we are going to introduce some basics ways of reading and writing\n",
    "files. This is useful when we require some large input for our program\n",
    "or when we want to save result of our calculations to a place in the disk."
   ]
  },
  {
   "cell_type": "code",
   "execution_count": null,
   "id": "c6f59e10",
   "metadata": {},
   "outputs": [],
   "source": [
    "# we can open a file in python with the open() function and passing\n",
    "# the file name as a string as the first arguments. We also in many\n",
    "# cases need to specify the mode we want to open the file for now we\n",
    "# will only focus on read, write and append. But you are free to\n",
    "# read about the others.\n",
    "\n",
    "# We create a new file called temporary_file.txt and specify\n",
    "# we want to write to it.\n",
    "new_file = open('temporary_file.txt', 'w')\n",
    "print(new_file) # files have their own type (object) the _io.TextIOWrapper"
   ]
  },
  {
   "cell_type": "code",
   "execution_count": null,
   "id": "97163474",
   "metadata": {},
   "outputs": [],
   "source": [
    "# More correctly our variable is in fact an object or an instance of\n",
    "# a class which we will not go into details at the moment however\n",
    "# by we can see the possible functions related to this object by\n",
    "# typing the object name followed by a dot and then pressing tab\n",
    "# try this below\n",
    "\n",
    "# press tab after the dot\n",
    "new_file."
   ]
  },
  {
   "cell_type": "code",
   "execution_count": null,
   "id": "becb22ff",
   "metadata": {},
   "outputs": [],
   "source": [
    "# One posibility is the write method lets try it\n",
    "\n",
    "write_this = \"I am writing to a file\\n\" # the \\n is used to create a new line\n",
    "new_file.write(write_this)\n",
    "\n",
    "# if you check the file you will see that the is nothing written to it\n",
    "# for efficiency reasons when writing to a file the data is stored in a\n",
    "# buffer when the buffer limit is reached then it writes everything in\n",
    "# the buffer to the file"
   ]
  },
  {
   "cell_type": "code",
   "execution_count": null,
   "id": "6e9ca514",
   "metadata": {},
   "outputs": [],
   "source": [
    "# we can force it to write by flushing the buffer\n",
    "new_file.flush()\n",
    "# If we inspect the file we will now see that our line has been written.\n",
    "# The buffer size can be modified when creating the file."
   ]
  },
  {
   "cell_type": "code",
   "execution_count": null,
   "id": "82bd6aa5",
   "metadata": {},
   "outputs": [],
   "source": [
    "# Finally lets close our file since we are done writting to it\n",
    "# Closing the file also flushes the buffer automatically\n",
    "new_file.close()"
   ]
  },
  {
   "cell_type": "code",
   "execution_count": null,
   "id": "8200f0bb",
   "metadata": {},
   "outputs": [],
   "source": [
    "new_file.write(write_this) # As you can see we can no longer write to it"
   ]
  },
  {
   "cell_type": "code",
   "execution_count": null,
   "id": "67d94289",
   "metadata": {},
   "outputs": [],
   "source": [
    "# Alright lets put everything together\n",
    "log_file = open('temporary_file.txt', 'w')\n",
    "for i in range(101):\n",
    "    log_file.write(str(i) + '\\n')\n",
    "log_file.close()\n",
    "\n",
    "# We have written numbers from 0 to 100 to a file each on a separate line\n",
    "# As you can I named this file the same as out previous example, however,\n",
    "# the line we had before \"I am writing to this file\" disappeared. This\n",
    "# is because the 'w' mode or writing mode replaces any file with this\n",
    "# name when it creates it."
   ]
  },
  {
   "cell_type": "code",
   "execution_count": null,
   "id": "056285f2",
   "metadata": {},
   "outputs": [],
   "source": [
    "# But lets say we wrote to file at some point in our program we closed it\n",
    "# and we know want to write to it again without losing our previous data\n",
    "# the way to do this is with the 'a' mode or append.\n",
    "\n",
    "# We have the same code as before but now I am opening and closing\n",
    "# the file within the loop\n",
    "\n",
    "for i in range(101):\n",
    "    log_file = open('temporary_file.txt', 'w')\n",
    "    log_file.write(str(i) + '\\n')\n",
    "    log_file.close()\n",
    "    \n",
    "# As expected we only get the last number in our file"
   ]
  },
  {
   "cell_type": "code",
   "execution_count": null,
   "id": "d5bc9f53",
   "metadata": {},
   "outputs": [],
   "source": [
    "# We have now change the mode from 'w' to 'a'\n",
    "\n",
    "for i in range(101):\n",
    "    log_file = open('temporary_file.txt', 'a')\n",
    "    log_file.write(str(i) + '\\n')\n",
    "    log_file.close()\n",
    "\n",
    "# As you can see even though we are closing the file we are not loosing\n",
    "# what we write from before. However it is important to be careful\n",
    "# since as we can see we get the number from 0 to 100 but we also get \n",
    "# an extra 100 at the beginning that we had from the previous cell. "
   ]
  },
  {
   "cell_type": "code",
   "execution_count": null,
   "id": "eb5871c8",
   "metadata": {},
   "outputs": [],
   "source": [
    "# Lets now read the content of our file\n",
    "\n",
    "reading = open('temporary_file.txt', 'r')\n",
    "lines = reading.readlines()\n",
    "print(lines)\n",
    "\n",
    "# With the readlines() we get a list of our lines. However for large\n",
    "# files readlines() is not the best because it can fill up our memory\n",
    "# in many cases is better to read line by line"
   ]
  },
  {
   "cell_type": "code",
   "execution_count": null,
   "id": "a548d174",
   "metadata": {},
   "outputs": [],
   "source": [
    "# We can also read and write to files using the with keyword\n",
    "\n",
    "lines = []\n",
    "with open('temporary_file.txt', 'r') as f:\n",
    "    for line in f:\n",
    "        lines.append(line)\n",
    "print(lines)\n",
    "\n",
    "# Here we are accomplishing the same as before however the benefit is \n",
    "# that we can treat our file in chunks and do not worry about the memory."
   ]
  },
  {
   "cell_type": "code",
   "execution_count": null,
   "id": "7d7bde14",
   "metadata": {},
   "outputs": [],
   "source": [
    "# Since we are reading line by line we can also perform actions to each\n",
    "# line for example the data we are getting is not completly useful as it\n",
    "# is one long string and has the '\\n' and we also lost our integer type\n",
    "# since the number are now strings\n",
    "\n",
    "# So lets do some operations to treat the data\n",
    "\n",
    "lines = []\n",
    "with open('temporary_file.txt', 'r') as f:\n",
    "    for line in f:\n",
    "        # The split method is very important when reading a file\n",
    "        # specially when we have more than one column as it\n",
    "        # creates a list of values separated by whitespace\n",
    "        data = line.split()  \n",
    "        lines.append(int(data[0])) # We take the only element in the list and convert back to int\n",
    "print(lines)\n"
   ]
  },
  {
   "cell_type": "code",
   "execution_count": null,
   "id": "1ad717af",
   "metadata": {},
   "outputs": [],
   "source": [
    "# With the with keyword the file gets also closed automatically. Let\n",
    "# see an example of writing to a file\n",
    "\n",
    "with open('temporary_file.txt', 'w') as f:\n",
    "    for i in range(101):\n",
    "        f.write(str(i) + '\\n')"
   ]
  },
  {
   "cell_type": "markdown",
   "id": "e0a1bf79",
   "metadata": {},
   "source": [
    "### Exercise 1: Using the files inside of data called classroom_1.txt and classroom_2.txt find the average GPA of classroom 1 and classroom 2 and the average age of students with GPA above or equal to 3.8"
   ]
  },
  {
   "cell_type": "code",
   "execution_count": null,
   "id": "59d31b7d",
   "metadata": {},
   "outputs": [],
   "source": []
  },
  {
   "cell_type": "markdown",
   "id": "cbc93876",
   "metadata": {},
   "source": [
    "# String formatting"
   ]
  },
  {
   "cell_type": "code",
   "execution_count": null,
   "id": "2e5ddf50",
   "metadata": {},
   "outputs": [],
   "source": [
    "# Many files have a strict formatting this means that the fields in the\n",
    "# text file have specific lengths and other programs expect this lengths\n",
    "# when reading the file so they have to be respected how can we \n",
    "# accomplish this?\n",
    "\n",
    "# We will start with simple strings\n",
    "\n",
    "word = 'formatting'\n",
    "print(word)\n",
    "print(f'{word}') # This is how we specify a formatted string without a format\n",
    "\n",
    "# Now lets add the format\n",
    "print(f'{word:>15s}') # the 15 refers to the # of colums we assign\n",
    "# The > means that we want it right aligned\n",
    "\n",
    "print(f'{word:<15s}') # Left aligned compared to the first ones it has white spaces to the right up to 15\n",
    "print(f'{word:^15s}') # Centered"
   ]
  },
  {
   "cell_type": "code",
   "execution_count": null,
   "id": "5d42e67f",
   "metadata": {},
   "outputs": [],
   "source": [
    "names = ['Michelle', 'Jacob', 'Mary']\n",
    "last_names = ['Browning', 'Brown', 'Myers']\n",
    "\n",
    "# Without formatting the last names are not aligned.\n",
    "# If we save it to a file and try to add a comma in between the name\n",
    "# and lastname it would not be as easy.\n",
    "\n",
    "# Also imagine there is a program that reads names and lastnames and it \n",
    "# expects that the names from column 1 to 20 and last names from 21 to 40\n",
    "# in our case say for the first one it would actually read:\n",
    "\n",
    "# name = 'MichelleBrowning     '\n",
    "# last_name = '                   '\n",
    "\n",
    "for i in range(len(names)):\n",
    "    print(names[i], last_names[i])"
   ]
  },
  {
   "cell_type": "code",
   "execution_count": null,
   "id": "22278e98",
   "metadata": {},
   "outputs": [],
   "source": [
    "# Lets fix this issue by giving 20 spaces to each string\n",
    "for i in range(len(names)):\n",
    "    print(f'{names[i]:20s}{last_names[i]:20s}')"
   ]
  },
  {
   "cell_type": "code",
   "execution_count": null,
   "id": "35ee18f6",
   "metadata": {},
   "outputs": [],
   "source": [
    "# We can also use string format for numeric values for integers there is\n",
    "# nothing additional to learn with just use the letter d instead of s\n",
    "# to indicate is a integer value\n",
    "\n",
    "for i in range(len(names)):\n",
    "    print(f'{i:10d}{names[i]:20s}') # by default numeric values are aligned right\n",
    "# while strings are aligned left lets modify this to look better    "
   ]
  },
  {
   "cell_type": "code",
   "execution_count": null,
   "id": "c2c64e2b",
   "metadata": {},
   "outputs": [],
   "source": [
    "for i in range(len(names)):\n",
    "    print(f'{i:10d}{names[i]:>20s}')"
   ]
  },
  {
   "cell_type": "code",
   "execution_count": null,
   "id": "f466e574",
   "metadata": {},
   "outputs": [],
   "source": [
    "# In the case of floats, we can also specify the number of decimal places\n",
    "# using a dot after the specified number of columns and we use an f\n",
    "import numpy as np\n",
    "\n",
    "for i in range(10):\n",
    "    rand_num = 1000000 * np.random.random()\n",
    "    print(rand_num)"
   ]
  },
  {
   "cell_type": "code",
   "execution_count": null,
   "id": "6175727d",
   "metadata": {},
   "outputs": [],
   "source": [
    "for i in range(10):\n",
    "    rand_num = 1000000 * np.random.random()\n",
    "    print(f'{rand_num:12.2f}') # We are specifying it is a float of 12 colunms and 2 of them are decimal places"
   ]
  },
  {
   "cell_type": "code",
   "execution_count": null,
   "id": "2faeef0f",
   "metadata": {},
   "outputs": [],
   "source": [
    "# Another way of formating is using the format() function\n",
    "\n",
    "# We define our particular format before\n",
    "fmt = '{:20s}{:20s}'\n",
    "for i in range(len(names)):\n",
    "    print(fmt.format(names[i], last_names[i])) # we call the format function "
   ]
  },
  {
   "cell_type": "code",
   "execution_count": null,
   "id": "1bc5426e",
   "metadata": {},
   "outputs": [],
   "source": [
    "# One final note useful for string formatting but that can also be used for \n",
    "# other purposes is the unpack operator (*)\n",
    "\n",
    "# For example we have a list of 3 items and we want to\n",
    "# create a variable for each item in the list\n",
    "\n",
    "fruits = ['apple', 'pear', 'orange']\n",
    "\n",
    "fruit1 = fruits[0]\n",
    "fruit2 = fruits[1]\n",
    "fruit3 = fruits[2]\n",
    "print(fruit1, fruit2, fruit3)\n",
    "\n",
    "# we can accomplish this in on line\n",
    "fruit1, fruit2, fruit3 = fruits\n",
    "print(fruit1, fruit2, fruit3)\n",
    "\n",
    "# The equal sign unpacks our list as long as we have enough variables to unpack to\n",
    "# when we are not using the equal sign but instead formatting we can unpack by ourselves with (*)\n",
    "\n",
    "fmt = '{:10s}{:10s}{:10s}'\n",
    "print(fmt.format(fruits[0], fruits[1], fruits[2]))\n",
    "\n",
    "# Now that we wrote all the items individually lets see how unpacking makes it easier\n",
    "\n",
    "fmt = '{:10s}{:10s}{:10s}'\n",
    "print(fmt.format(*fruits)) # The star unpacks our list for us as long as it can unpack to"
   ]
  },
  {
   "cell_type": "markdown",
   "id": "75527a1f",
   "metadata": {},
   "source": [
    "### Exercise 2: The PDB file format is a type of format used by the Protein Data Bank to specify atomic coordinates. Read about this type of file https://www.cgl.ucsf.edu/chimera/docs/UsersGuide/tutorials/pdbintro.html. The idea is to create a fake macromolecule with only carbon atoms and then to set the positions of these atoms based on the output of a given 3d function."
   ]
  },
  {
   "cell_type": "code",
   "execution_count": null,
   "id": "6d22a26c",
   "metadata": {},
   "outputs": [],
   "source": [
    "# Here we create our x,y and z positions of our saddle function\n",
    " \n",
    "x = np.linspace(-1, 1, 50) # Creates 50 numbers from -1 to 1\n",
    "y = np.linspace(-1, 1, 50) # Creates 50 numbers from -1 to 1\n",
    "X, Y = np.meshgrid(x, y) # Creates a 2d grid based on x and y\n",
    "z = X ** 2 - Y ** 2 # Our output is a 2d array with a z value for every (x, y) pair\n",
    "\n",
    "# Create the appropriate formatting string \n",
    "fmt = \"\"\n",
    "# Create the a list of fields with the values that wont change and placeholders for\n",
    "# the ones that will be modified in the loop\n",
    "fields = []\n",
    "\n",
    "# Iterate over the data and print to a file called function.pdb "
   ]
  },
  {
   "cell_type": "markdown",
   "id": "2b479453",
   "metadata": {},
   "source": [
    "<img src=\"images/pymol_plot.png\" width=800 height=800/>"
   ]
  },
  {
   "cell_type": "markdown",
   "id": "57372e5d",
   "metadata": {},
   "source": [
    "# More ways of looping"
   ]
  },
  {
   "cell_type": "code",
   "execution_count": null,
   "id": "14058b8e",
   "metadata": {},
   "outputs": [],
   "source": [
    "# We have seen some ways on how to repeate an operation inside a loop\n",
    "# now lets go into some details and talk about other ways of looping\n",
    "\n",
    "animals = ['lion', 'dog', 'cat', 'horse', 'pig']\n",
    "\n",
    "# We know we can iterate by looping over the list item by item doing\n",
    "\n",
    "for animal in animals:\n",
    "    print(animal)"
   ]
  },
  {
   "cell_type": "code",
   "execution_count": null,
   "id": "73d28ad9",
   "metadata": {},
   "outputs": [],
   "source": [
    "# We can also iterate by index\n",
    "\n",
    "for i in range(len(animals)):\n",
    "    print(animals[i])"
   ]
  },
  {
   "cell_type": "code",
   "execution_count": null,
   "id": "79cb464c",
   "metadata": {},
   "outputs": [],
   "source": [
    "# What happens if we want to count the animals and output the name as well\n",
    "# then we can do\n",
    "\n",
    "for i in range(len(animals)):\n",
    "    print(i + 1, animals[i]) # The plus one is so it starts at 1 and not at zero"
   ]
  },
  {
   "cell_type": "code",
   "execution_count": null,
   "id": "e7d30b99",
   "metadata": {},
   "outputs": [],
   "source": [
    "# There is an alternative for doing this using the enumerate() function\n",
    "# that enumerate the items of our list as it iterates\n",
    "\n",
    "for i, animal in enumerate(animals): # enumerate returns 2 values so we nee to unpack to 2 variables\n",
    "    print(i + 1, animal)"
   ]
  },
  {
   "cell_type": "code",
   "execution_count": null,
   "id": "6f8924bb",
   "metadata": {},
   "outputs": [],
   "source": [
    "# Enumerate might to seem that useful but it is very useful\n",
    "# in cases we do not know the size of the list\n",
    "\n",
    "# For example lets read the classroom_1.txt and count how many lines it contains\n",
    "# as well as outputting the line number and GPA as we go along\n",
    "\n",
    "counter = 0\n",
    "with open('./data/classroom_1.txt', 'r') as f:\n",
    "    for line in f: # In principle we do not know the number of lines\n",
    "        data = line.split()\n",
    "        print(counter, data[4])\n",
    "        counter += 1\n",
    "print('Number of lines: ', counter) # we have 1002 lines"
   ]
  },
  {
   "cell_type": "code",
   "execution_count": null,
   "id": "5925f3b4",
   "metadata": {},
   "outputs": [],
   "source": [
    "# Lets use enumerate to obtain the same\n",
    "\n",
    "counter = 0\n",
    "with open('./data/classroom_1.txt', 'r') as f:\n",
    "    for i, line in enumerate(f): # We use enumerate to give a index to our lines\n",
    "        data = line.split()\n",
    "        print(i, data[4])\n",
    "print('Number of lines: ', i + 1) # we have to add one since enumerate starts at 0"
   ]
  },
  {
   "cell_type": "code",
   "execution_count": null,
   "id": "febd9905",
   "metadata": {},
   "outputs": [],
   "source": [
    "# Lets look at the zip() function now\n",
    "\n",
    "fruits = ['orange', 'banana', 'pear', 'grape']\n",
    "colors = ['orange', 'yellow', 'green', 'purple']\n",
    "\n",
    "zipped = zip(fruits, colors)\n",
    "print(zipped) # We created a zip object, with the combination of both lists\n",
    "# we can iterate over it or convert it back to a list\n",
    "\n",
    "fruits_colors = list(zipped)\n",
    "print(fruits_colors)"
   ]
  },
  {
   "cell_type": "code",
   "execution_count": null,
   "id": "298f38ca",
   "metadata": {},
   "outputs": [],
   "source": [
    "# We added a fruit to our list but not to our colors\n",
    "# so the sizes do not match\n",
    "fruits.append('apple')\n",
    "print(list(zip(fruits, colors))) # We zipped the list but did not get apple because it could not be\n",
    "# zipped since there was no element in the colors list"
   ]
  },
  {
   "cell_type": "code",
   "execution_count": null,
   "id": "e9e303f1",
   "metadata": {},
   "outputs": [],
   "source": [
    "# In many cases this can be unwanted behaviour and instead of checking \n",
    "# the size of the lists manually we can use the following argument\n",
    "print(list(zip(fruits, colors, strict=True))) # This will only work in python 3.10 and up"
   ]
  },
  {
   "cell_type": "code",
   "execution_count": null,
   "id": "62c81fe8",
   "metadata": {},
   "outputs": [],
   "source": [
    "# We can therefore use the zip function to loop\n",
    "\n",
    "fruits = ['orange', 'banana', 'pear', 'grape']\n",
    "colors = ['orange', 'yellow', 'green', 'purple']\n",
    "\n",
    "for fruit, color in zip(fruits, colors):\n",
    "    print(fruit, color)"
   ]
  },
  {
   "cell_type": "code",
   "execution_count": null,
   "id": "474937c1",
   "metadata": {},
   "outputs": [],
   "source": [
    "# Finally lets look at while loops\n",
    "# A while loop would look something like this if written as a for\n",
    "\n",
    "\n",
    "for i in range(1000):\n",
    "    if i > 100:\n",
    "        break # break is use to break out of the loop\n",
    "    else:\n",
    "        print(i)"
   ]
  },
  {
   "cell_type": "code",
   "execution_count": null,
   "id": "9df4860a",
   "metadata": {},
   "outputs": [],
   "source": [
    "# Lets accomplish the same using a while loop\n",
    "\n",
    "i = -1\n",
    "while i < 100: # As long as i is less than 100 if it is greater it does not go in\n",
    "    i += 1\n",
    "    print(i)"
   ]
  },
  {
   "cell_type": "code",
   "execution_count": null,
   "id": "92047370",
   "metadata": {},
   "outputs": [],
   "source": [
    "# while loop can really be helpful when we in principle do not\n",
    "# know how long to iterate for\n",
    "\n",
    "# Imagine we want the first number whose digits add up to\n",
    "# more than 50\n",
    "\n",
    "for i in range(1000): # lets try looping up to 1000\n",
    "    num = str(i)\n",
    "    sum_ = 0\n",
    "    for digit in num:\n",
    "        sum_ += int(digit)\n",
    "    if sum_ > 50:\n",
    "        break\n",
    "print(i) # as you can see i is 999 as we reach the end of the loop\n",
    "# but the digits add up to 9 + 9 + 9 = 27 which is less than 50"
   ]
  },
  {
   "cell_type": "code",
   "execution_count": null,
   "id": "b3aab51d",
   "metadata": {},
   "outputs": [],
   "source": [
    "# As we can see we reached a limitation in principle we can put\n",
    "# a very large number but a while loop is more suited for this\n",
    "i = 0\n",
    "sum_ = 0\n",
    "while sum_ < 50:\n",
    "    sum_ = 0\n",
    "    num = str(i)\n",
    "    for digit in num:\n",
    "        sum_ += int(digit)\n",
    "    i += 1\n",
    "print(i - 1) # We subtract one since the number we want is the one before the condition ended"
   ]
  },
  {
   "cell_type": "markdown",
   "id": "b8029c2b",
   "metadata": {},
   "source": [
    "### Exercise 3: Using the classroom_1.txt and the classroom_2.txt. Create a new file called all_below_3.txt. The file needs to contain the name and last name (field of 20 columns right aligned) the GPA with 2 decimals (field of 4 columns) and a new column of the class number either 1 or 2 of all the students with GPA less than 3."
   ]
  },
  {
   "cell_type": "code",
   "execution_count": null,
   "id": "7d4d3ebf",
   "metadata": {},
   "outputs": [],
   "source": []
  },
  {
   "cell_type": "markdown",
   "id": "4d011c80",
   "metadata": {},
   "source": [
    "# Other data types dictionaries or hash tables"
   ]
  },
  {
   "cell_type": "code",
   "execution_count": null,
   "id": "49c8c746",
   "metadata": {},
   "outputs": [],
   "source": [
    "# So far we have dealt with data types such as list and arrays\n",
    "# that are indexed by an integer that goes from 0 to the size - 1 of \n",
    "# the list. However, it would be great if we had a data type\n",
    "# that can be indexed by a hash or a key meaning that we could have\n",
    "# something like fruits['red'] and it would give as red fruits\n",
    "# this type of data structure in python is called a dictionary \n",
    "\n",
    "dic = {}\n",
    "print(type(dic)) # We created an empty dictionary"
   ]
  },
  {
   "cell_type": "code",
   "execution_count": null,
   "id": "1ba2b0c2",
   "metadata": {},
   "outputs": [],
   "source": [
    "fruits_dic = {'red' : 'apple', 'green' : 'pear', 'purple' : 'grape'} # Here we have defined 3 keys that map to 3 values\n",
    "\n",
    "# we can access the values using the keys\n",
    "\n",
    "print(fruits_dic['red'])\n",
    "\n",
    "# we can also access all the keys by typing \n",
    "\n",
    "keys = list(fruits_dic.keys()) # we use list to convert to a list\n",
    "print(keys)\n",
    "\n",
    "# we can also access all the values by typing\n",
    "\n",
    "values = list(fruits_dic.values())\n",
    "print(values)\n",
    "\n",
    "# we can also accces the pair of key and values as follows\n",
    "\n",
    "items = list(fruits_dic.items())\n",
    "print(items) # this is very similar to zip and we can use any of this to iterate over the elements"
   ]
  },
  {
   "cell_type": "code",
   "execution_count": null,
   "id": "2c36b738",
   "metadata": {},
   "outputs": [],
   "source": [
    "for key, value in fruits_dic.items():\n",
    "    print(key, value)"
   ]
  },
  {
   "cell_type": "code",
   "execution_count": null,
   "id": "c8c47b3c",
   "metadata": {},
   "outputs": [],
   "source": [
    "len(fruits_dic) # the size of a dictionary is the same as the number of keys"
   ]
  },
  {
   "cell_type": "code",
   "execution_count": null,
   "id": "9bf430d4",
   "metadata": {},
   "outputs": [],
   "source": [
    "# we can also create a key that maps to a list of values for example\n",
    "\n",
    "fruits_dic = {'red' : ['apple, cherry'], 'green' : ['pear', 'apple'], 'purple' : ['grape']}\n",
    "print(fruits_dic)"
   ]
  },
  {
   "cell_type": "code",
   "execution_count": null,
   "id": "984c2448",
   "metadata": {},
   "outputs": [],
   "source": [
    "# We can now use this for example to count the number of fruits of a given color\n",
    "\n",
    "for key in fruits_dic.keys():\n",
    "    print(key, len(fruits_dic[key]))"
   ]
  },
  {
   "cell_type": "code",
   "execution_count": null,
   "id": "3ab15ead",
   "metadata": {},
   "outputs": [],
   "source": [
    "# We can also add append values o a given list for example\n",
    "\n",
    "new_purple = ['eggplant', 'blackberry']\n",
    "for new_fruit in new_purple:\n",
    "    fruits_dic['purple'].append(new_fruit)\n",
    "print(fruits_dic)"
   ]
  },
  {
   "cell_type": "code",
   "execution_count": null,
   "id": "b86a82e1",
   "metadata": {},
   "outputs": [],
   "source": [
    "# One useful application of a dictionary is to for example to count\n",
    "\n",
    "np.random.seed(0) # sets a random seed to ensure we always get the same random numbers\n",
    "rand_ints = np.random.randint(1, 10, 1000) # Creates a list of 1000 random integers 1 to 9\n",
    "print(rand_ints)"
   ]
  },
  {
   "cell_type": "code",
   "execution_count": null,
   "id": "128dfba2",
   "metadata": {},
   "outputs": [],
   "source": [
    "# Before we go into how to count we have to do a parentheses and\n",
    "# look at the try and except keywords. There are many uses for this\n",
    "# keywords and I recommend reading about it however, for now we will\n",
    "# see how to use them in this context\n",
    "\n",
    "# if we have an empty dictionary and try to reference a key\n",
    "# we should get and error as the key does not exist\n",
    "\n",
    "dic = {}\n",
    "dic['apple']"
   ]
  },
  {
   "cell_type": "code",
   "execution_count": null,
   "id": "80521c9a",
   "metadata": {},
   "outputs": [],
   "source": [
    "# As expected we get an error now lets say for example we were attemting to do this in a loop\n",
    "\n",
    "dic = {1 : 'one', 2 : 'two', 3 : 'three'} # This maps a number to its word\n",
    "\n",
    "for i in range(4):\n",
    "    print(dic[i]) # We get an error straight away as key 0 does not exists"
   ]
  },
  {
   "cell_type": "code",
   "execution_count": null,
   "id": "641b7c48",
   "metadata": {},
   "outputs": [],
   "source": [
    "# But we want our program to keep running regardless\n",
    "# we want to know the words for the values we do have a key\n",
    "# to achieve this we have to handle our error\n",
    "\n",
    "for i in range(4):\n",
    "    try: # we want to try if the following line is possible if it works it just excecutes\n",
    "        print(dic[i]) # if this fails the we go to except and we handle it\n",
    "    except:\n",
    "        print(f'We got an error when attempted to referece {i}')\n",
    "# As we can see the program excecutes without error and we \n",
    "# get our message when it fails."
   ]
  },
  {
   "cell_type": "code",
   "execution_count": null,
   "id": "467adbc6",
   "metadata": {},
   "outputs": [],
   "source": [
    "# If we remember our list of random integers the idea is to count how many\n",
    "# times they occur in the list but in principle we do not know how many distinct\n",
    "# elements we have so and dictionary is ideal\n",
    "\n",
    "\n",
    "# Lets first try it using arrays\n",
    "\n",
    "count = np.zeros(10)\n",
    "for num in rand_ints:\n",
    "    count[num] += 1\n",
    "print(count[1:]) # Since we do not have 0 we ignore the element 0\n",
    "\n",
    "# This approach has some problems\n",
    "\n",
    "# What would happen if we have number larger than 10?\n",
    "# If we dont have an idea of the type of numbers we are counting is it a good idea to set np.ones(100000)?\n",
    "# What if we are not counting numbers but instead words?"
   ]
  },
  {
   "cell_type": "code",
   "execution_count": null,
   "id": "5756c96f",
   "metadata": {},
   "outputs": [],
   "source": [
    "# Lets now look how to do it with a dictionary\n",
    "\n",
    "count = {} # Create an empty dictionary\n",
    "for num in rand_ints:\n",
    "    try: # we see if the key exists\n",
    "        count[num] += 1 # if the key exists we add one to the value\n",
    "    except: # this occurs if the key does not exist\n",
    "        count[num] = 1 # when the key does not exist we set the value to one\n",
    "print(count)"
   ]
  },
  {
   "cell_type": "markdown",
   "id": "2e606342",
   "metadata": {},
   "source": [
    "### Exercise 4: The hbonds.txt file in the data folder contains information about a Molecular Dynamics simulation. We are interested in the second field that has the 3 letter representation of an aminoacid. Count how many times each amino acid occurs in the file."
   ]
  },
  {
   "cell_type": "code",
   "execution_count": null,
   "id": "4eb51434",
   "metadata": {},
   "outputs": [],
   "source": []
  },
  {
   "cell_type": "code",
   "execution_count": null,
   "id": "026454c5",
   "metadata": {},
   "outputs": [],
   "source": [
    "# Dictionaries are also extremely useful for optimizing algorithms\n",
    "# as they can usually be used to save a history of previous calculations\n",
    "# a memory of the program so if you have to compute a a new value that at some point\n",
    "# in the computation transforms to something you already know the answer\n",
    "# for then you go straight to it without further computation\n",
    "\n",
    "# To look at this in more detail we first need to introduce recursion\n",
    "# again this is also one of those topics that are very wide but the simple\n",
    "# idea is to have a function that to compute a given value requires to call the same function again\n",
    "\n",
    "# For example lets look at a factorial\n",
    "\n",
    "\n",
    "# 5! = 5 * 4 * 3 * 2 * 1 = 120\n",
    "\n",
    "# A naive implementation would be\n",
    "\n",
    "def factorial_naive(n):\n",
    "    prod = 1\n",
    "    for i in range(n, 1, -1):\n",
    "        prod *= i\n",
    "    return prod\n",
    "\n",
    "print(factorial_naive(5))"
   ]
  },
  {
   "cell_type": "code",
   "execution_count": null,
   "id": "d5754cf4",
   "metadata": {},
   "outputs": [],
   "source": [
    "# We are going to introduce now the time module that help us time our function\n",
    "\n",
    "from time import time\n",
    "\n",
    "t0 = time() # We save the current time to t0\n",
    "result = factorial_naive(2500) # we call our function\n",
    "took = time() - t0 # We save the current time - t0 to time\n",
    "print(f'It took {took:6.4f} seconds to run')"
   ]
  },
  {
   "cell_type": "code",
   "execution_count": null,
   "id": "1a809e5c",
   "metadata": {},
   "outputs": [],
   "source": [
    "# This below is the recursive approach. We first define our extreme case\n",
    "# When we have reached the bottom that is when n = 1. When this happens\n",
    "# we simply return n which is our result up to that point.\n",
    "# If we are not in the limit case then we do recursion\n",
    "# for the factorial it means n * (n-1)!\n",
    "\n",
    "\n",
    "# 5! = 5 * 4! = 5 * 4 * 3! basically to compute 5!\n",
    "# we need to compute 4! and to compute 4! we need to compute 3!\n",
    "# and so on until we reach 1\n",
    "\n",
    "\n",
    "# Recursion is not simple to understand at first \n",
    "\n",
    "def factorial_recursive(n):\n",
    "    if n == 1:\n",
    "        return n\n",
    "    else:\n",
    "        return n * factorial_recursive(n - 1)\n",
    "print(factorial_recursive(5))"
   ]
  },
  {
   "cell_type": "code",
   "execution_count": null,
   "id": "dba1b6dd",
   "metadata": {},
   "outputs": [],
   "source": [
    "t0 = time()\n",
    "result = factorial_recursive(2500)\n",
    "took = time() - t0\n",
    "print(f'It took {took:6.4f} seconds to run') # We can see that our recursive attempt takes almost\n",
    "# twice as long as our naive approach\n",
    "# in many cases recursion is useful but in many others\n",
    "# although elegant it is not efficient"
   ]
  },
  {
   "cell_type": "code",
   "execution_count": null,
   "id": "604efce4",
   "metadata": {},
   "outputs": [],
   "source": [
    "def factorial_dyn(n):\n",
    "    dic = {1 : 1} # We create a dictionary with our extreme case\n",
    "    for i in range(2, n + 1): # We loop over the remaining values\n",
    "        value = dic[i - 1] * i # We perform the operation for the next value using the stored result of the dictinary\n",
    "        dic[i] = value # Add the new value to the dictionary\n",
    "    return dic\n",
    "print(factorial_dyn(5)[5]) # Since we return the entire dictionary we index element 5 "
   ]
  },
  {
   "cell_type": "code",
   "execution_count": null,
   "id": "9c61d591",
   "metadata": {},
   "outputs": [],
   "source": [
    "t0 = time()\n",
    "result = factorial_dyn(2500)\n",
    "took = time() - t0\n",
    "print(f'It took {took:6.4f} seconds to run') # The dynamic approach is similar to recursion but it is faster"
   ]
  },
  {
   "cell_type": "markdown",
   "id": "88ee729e",
   "metadata": {},
   "source": [
    "### Exercise 5: Go over to the dynamic.py to learn more about dynamic programming"
   ]
  }
 ],
 "metadata": {
  "kernelspec": {
   "display_name": "Python 3 (ipykernel)",
   "language": "python",
   "name": "python3"
  },
  "language_info": {
   "codemirror_mode": {
    "name": "ipython",
    "version": 3
   },
   "file_extension": ".py",
   "mimetype": "text/x-python",
   "name": "python",
   "nbconvert_exporter": "python",
   "pygments_lexer": "ipython3",
   "version": "3.9.5"
  }
 },
 "nbformat": 4,
 "nbformat_minor": 5
}
